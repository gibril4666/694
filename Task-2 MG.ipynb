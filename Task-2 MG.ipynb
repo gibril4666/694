{
 "cells": [
  {
   "cell_type": "code",
   "execution_count": 72,
   "metadata": {},
   "outputs": [],
   "source": [
    "############********** Project1 Task2 Training File **********############\n",
    "\n",
    "\n",
    "import pyodbc\n",
    "import pandas as pd\n",
    "import numpy as np\n",
    "import seaborn as sns\n",
    "import pickle\n",
    "import sys\n",
    "from sklearn.model_selection import train_test_split\n",
    "from sklearn.model_selection import cross_val_score\n",
    "from sklearn.model_selection import RepeatedStratifiedKFold\n",
    "\n",
    "from sklearn.metrics import plot_confusion_matrix\n",
    "\n",
    "from sklearn.preprocessing import MinMaxScaler\n",
    "from sklearn.preprocessing import LabelEncoder\n",
    "\n",
    "from imblearn.over_sampling import SMOTE\n",
    "\n",
    "from sklearn.ensemble import RandomForestClassifier, VotingClassifier\n",
    "from sklearn.linear_model import LogisticRegression\n",
    "from sklearn.svm import SVC\n",
    "from sklearn.tree import DecisionTreeClassifier\n",
    "from sklearn.neighbors import KNeighborsClassifier\n",
    "\n",
    "\n",
    "# pearson's correlation feature selection for numeric input and numeric output\n",
    "from sklearn.datasets import make_regression\n",
    "from sklearn.feature_selection import SelectKBest\n",
    "from sklearn.feature_selection import f_classif\n",
    "from sklearn.datasets import make_classification\n",
    "from sklearn_pandas import CategoricalImputer\n",
    "#from feature_engine.imputation import CategoricalImputer\n",
    "from sklearn.model_selection import train_test_split\n",
    "from sklearn.preprocessing import LabelEncoder\n",
    "from sklearn.preprocessing import OrdinalEncoder\n",
    "from sklearn.feature_selection import SelectKBest\n",
    "from sklearn.feature_selection import chi2\n",
    "from sklearn.feature_selection import mutual_info_classif\n",
    "from matplotlib import pyplot\n",
    "import datetime as dt\n",
    "\n",
    "from datetime import date\n",
    "import holidays\n",
    "\n",
    "pd.set_option(\"display.max_columns\", None)\n"
   ]
  },
  {
   "cell_type": "code",
   "execution_count": 73,
   "metadata": {},
   "outputs": [],
   "source": [
    "###--- Connecting to the server to access the database ---###\n",
    "\n",
    "conn = pyodbc.connect('Driver={SQL Server};'\n",
    "'Server=HCV171DTMBPDA01\\DTMBSQL16PRD.NGDS.state.mi.us,1910;'\n",
    "'Database=DTMB_CentralProcurement;'\n",
    "'Trusted_Connection=yes;')\n",
    "\n",
    "cursor = conn.cursor()"
   ]
  },
  {
   "cell_type": "code",
   "execution_count": 74,
   "metadata": {},
   "outputs": [
    {
     "data": {
      "text/plain": [
       "(4189, 35)"
      ]
     },
     "execution_count": 74,
     "metadata": {},
     "output_type": "execute_result"
    }
   ],
   "source": [
    "###--- Retrieving tables from the database using queries ---###\n",
    "\n",
    "query_1 = \"SELECT * FROM tblProjects WHERE ProjectType = 'RFP' Or ProjectType\\\n",
    "= 'C-RFP' Or ProjectType = 'CN' Or ProjectType = 'DS' Or ProjectType = 'CO-OP'Or ProjectType = 'ITN'Or ProjectType = 'CPC' Or ProjectType = 'RFS'\"\n",
    "query_2 = \"SELECT * FROM tblContractCategories\"\n",
    "\n",
    "\n",
    "df_projects = pd.read_sql_query(query_1, conn)\n",
    "df_projects = df_projects[df_projects['CategoryID'].notna()]\n",
    "df_projects = df_projects.astype({'CategoryID': 'int64'})\n",
    "\n",
    "df_level = pd.read_sql_query(query_2, conn)\n",
    "df_level = df_level[['LevelCalc', 'CategoryID']]\n",
    "\n",
    "df = df_projects.join(df_level.set_index('CategoryID'), on='CategoryID')\n",
    "df = df[(df[\"ProjectStage\"] == 'Complete')]\n",
    "df.shape"
   ]
  },
  {
   "cell_type": "markdown",
   "metadata": {},
   "source": [
    "# Data Preparation and Cleansing "
   ]
  },
  {
   "cell_type": "code",
   "execution_count": 75,
   "metadata": {},
   "outputs": [
    {
     "data": {
      "text/html": [
       "<div>\n",
       "<style scoped>\n",
       "    .dataframe tbody tr th:only-of-type {\n",
       "        vertical-align: middle;\n",
       "    }\n",
       "\n",
       "    .dataframe tbody tr th {\n",
       "        vertical-align: top;\n",
       "    }\n",
       "\n",
       "    .dataframe thead th {\n",
       "        text-align: right;\n",
       "    }\n",
       "</style>\n",
       "<table border=\"1\" class=\"dataframe\">\n",
       "  <thead>\n",
       "    <tr style=\"text-align: right;\">\n",
       "      <th></th>\n",
       "      <th>ProjectColor</th>\n",
       "      <th>ProjectType</th>\n",
       "      <th>CreatedBy</th>\n",
       "      <th>WorkPerformedFor</th>\n",
       "      <th>BuyerName</th>\n",
       "      <th>Hours</th>\n",
       "      <th>Division</th>\n",
       "      <th>SLA</th>\n",
       "      <th>Planned</th>\n",
       "      <th>CategoryID</th>\n",
       "      <th>FedReview</th>\n",
       "      <th>ITComponent</th>\n",
       "      <th>LevelCalc</th>\n",
       "      <th>Duration</th>\n",
       "      <th>Met_SLA</th>\n",
       "    </tr>\n",
       "  </thead>\n",
       "  <tbody>\n",
       "    <tr>\n",
       "      <th>0</th>\n",
       "      <td>Green</td>\n",
       "      <td>CN</td>\n",
       "      <td>keilenn</td>\n",
       "      <td>071</td>\n",
       "      <td>JY1</td>\n",
       "      <td>0.0</td>\n",
       "      <td>PROF</td>\n",
       "      <td>63</td>\n",
       "      <td>Yes</td>\n",
       "      <td>50</td>\n",
       "      <td>False</td>\n",
       "      <td>False</td>\n",
       "      <td>3</td>\n",
       "      <td>5</td>\n",
       "      <td>1</td>\n",
       "    </tr>\n",
       "    <tr>\n",
       "      <th>1</th>\n",
       "      <td>Green</td>\n",
       "      <td>RFP</td>\n",
       "      <td>Gibrilm</td>\n",
       "      <td>000</td>\n",
       "      <td>YMD</td>\n",
       "      <td>120.0</td>\n",
       "      <td>COMM</td>\n",
       "      <td>138</td>\n",
       "      <td>Yes</td>\n",
       "      <td>185</td>\n",
       "      <td>False</td>\n",
       "      <td>False</td>\n",
       "      <td>2</td>\n",
       "      <td>54</td>\n",
       "      <td>1</td>\n",
       "    </tr>\n",
       "    <tr>\n",
       "      <th>2</th>\n",
       "      <td>Green</td>\n",
       "      <td>RFP</td>\n",
       "      <td>Gibrilm</td>\n",
       "      <td>000</td>\n",
       "      <td>YMD</td>\n",
       "      <td>120.0</td>\n",
       "      <td>COMM</td>\n",
       "      <td>138</td>\n",
       "      <td>No</td>\n",
       "      <td>184</td>\n",
       "      <td>False</td>\n",
       "      <td>False</td>\n",
       "      <td>3</td>\n",
       "      <td>58</td>\n",
       "      <td>1</td>\n",
       "    </tr>\n",
       "    <tr>\n",
       "      <th>3</th>\n",
       "      <td>Green</td>\n",
       "      <td>RFP</td>\n",
       "      <td>Gibrilm</td>\n",
       "      <td>591</td>\n",
       "      <td>YMD</td>\n",
       "      <td>120.0</td>\n",
       "      <td>COMM</td>\n",
       "      <td>138</td>\n",
       "      <td>No</td>\n",
       "      <td>301</td>\n",
       "      <td>False</td>\n",
       "      <td>False</td>\n",
       "      <td>2</td>\n",
       "      <td>101</td>\n",
       "      <td>1</td>\n",
       "    </tr>\n",
       "    <tr>\n",
       "      <th>4</th>\n",
       "      <td>Green</td>\n",
       "      <td>RFP</td>\n",
       "      <td>Gibrilm</td>\n",
       "      <td>431</td>\n",
       "      <td>SR4</td>\n",
       "      <td>120.0</td>\n",
       "      <td>COMM</td>\n",
       "      <td>138</td>\n",
       "      <td>No</td>\n",
       "      <td>143</td>\n",
       "      <td>False</td>\n",
       "      <td>False</td>\n",
       "      <td>4</td>\n",
       "      <td>172</td>\n",
       "      <td>0</td>\n",
       "    </tr>\n",
       "  </tbody>\n",
       "</table>\n",
       "</div>"
      ],
      "text/plain": [
       "  ProjectColor ProjectType CreatedBy WorkPerformedFor BuyerName  Hours  \\\n",
       "0        Green          CN   keilenn              071       JY1    0.0   \n",
       "1        Green         RFP   Gibrilm              000       YMD  120.0   \n",
       "2        Green         RFP   Gibrilm              000       YMD  120.0   \n",
       "3        Green         RFP   Gibrilm              591       YMD  120.0   \n",
       "4        Green         RFP   Gibrilm              431       SR4  120.0   \n",
       "\n",
       "  Division  SLA Planned  CategoryID  FedReview  ITComponent LevelCalc  \\\n",
       "0     PROF   63     Yes          50      False        False         3   \n",
       "1     COMM  138     Yes         185      False        False         2   \n",
       "2     COMM  138      No         184      False        False         3   \n",
       "3     COMM  138      No         301      False        False         2   \n",
       "4     COMM  138      No         143      False        False         4   \n",
       "\n",
       "   Duration  Met_SLA  \n",
       "0         5        1  \n",
       "1        54        1  \n",
       "2        58        1  \n",
       "3       101        1  \n",
       "4       172        0  "
      ]
     },
     "execution_count": 75,
     "metadata": {},
     "output_type": "execute_result"
    }
   ],
   "source": [
    "###--- Data pre-processing and cleaning for training model---###\n",
    "\n",
    "def prepare_df2(df):\n",
    "    \n",
    "    #Calculating the duration\n",
    "    df = df.reset_index()\n",
    "    df = df.dropna(subset=['PlanFinishDate'])\n",
    "    mi_holidays = holidays.UnitedStates(state='MI')\n",
    "    start = df['PlanStartDate'].astype(str)\n",
    "    end = df['ActualFinishDate'].astype(str)\n",
    "    bus = []\n",
    "    holi = []\n",
    "    dur = []\n",
    "    start_list = start.tolist()\n",
    "    end_list = end.tolist()\n",
    "    for i in range(len(start_list)):\n",
    "        holi.append(len(mi_holidays[start_list[i]: end_list[i]]))\n",
    "        bus.append(np.busday_count(start_list[i], end_list[i]))\n",
    "\n",
    "    zip_object = zip(bus, holi)\n",
    "    for list1_i, list2_i in zip_object:\n",
    "        dur.append(list1_i-list2_i)\n",
    "    df['dur'] = dur\n",
    "    variables_to_remove = ['index','SharePointID', 'ID', 'ProjectName', 'CreateDate', 'PlanStartDate',\n",
    "             'PlanFinishDate', 'StatusDate', 'ProjectDescription', 'Status', 'StatusDate', 'ProjectDescription',\n",
    "             'Status', 'RefrenceNumber', 'ProjectStage', 'CancelationReason', 'ActualFinishDate', 'Unit',\n",
    "             'SolicitationStatus', 'LastUpdatedBy', 'LastUpdateDate', 'LastUpdatedField', 'SolicitationNum',\n",
    "             'SensitivityIndicator', 'SourcingCategory', 'DollarAmount'] # Business requested removal of the following features\n",
    "\n",
    "    df = df.drop(variables_to_remove, axis = 1)\n",
    "    df = df.rename(columns={\"dur\": \"Duration\"})\n",
    "    df = df[df[\"Duration\"]>0]\n",
    "    # handling NaN values\n",
    "    imputer = CategoricalImputer()\n",
    "    data = np.array(df['Planned'], dtype=object)\n",
    "    data2 = np.array(df['CreatedBy'], dtype=object)\n",
    "    data3 = np.array(df['BuyerName'], dtype=object)\n",
    "\n",
    "    df['Planned'] = imputer.fit_transform(data)\n",
    "    df['CreatedBy'] = imputer.fit_transform(data2)\n",
    "    df['BuyerName'] = imputer.fit_transform(data3)\n",
    "    df = df.dropna()\n",
    "    df = df.reset_index()\n",
    "    df = df.drop('index', axis = 1)\n",
    "    return df\n",
    "\n",
    "def met_sla(df):\n",
    "    \n",
    "    if df['Duration'] <= df['SLA']:\n",
    "        val = 1\n",
    "    elif df['Duration'] > df['SLA']:\n",
    "        val = 0\n",
    "    return val\n",
    "\n",
    "model2_df = prepare_df2(df)\n",
    "model2_df['Met_SLA'] = model2_df.apply(met_sla, axis=1)\n",
    "model2_df.head()"
   ]
  },
  {
   "cell_type": "markdown",
   "metadata": {},
   "source": [
    "# Creating Labels for Different durations"
   ]
  },
  {
   "cell_type": "code",
   "execution_count": 76,
   "metadata": {},
   "outputs": [
    {
     "name": "stdout",
     "output_type": "stream",
     "text": [
      "(3373, 15)\n"
     ]
    },
    {
     "data": {
      "text/html": [
       "<div>\n",
       "<style scoped>\n",
       "    .dataframe tbody tr th:only-of-type {\n",
       "        vertical-align: middle;\n",
       "    }\n",
       "\n",
       "    .dataframe tbody tr th {\n",
       "        vertical-align: top;\n",
       "    }\n",
       "\n",
       "    .dataframe thead th {\n",
       "        text-align: right;\n",
       "    }\n",
       "</style>\n",
       "<table border=\"1\" class=\"dataframe\">\n",
       "  <thead>\n",
       "    <tr style=\"text-align: right;\">\n",
       "      <th></th>\n",
       "      <th>ProjectColor</th>\n",
       "      <th>ProjectType</th>\n",
       "      <th>CreatedBy</th>\n",
       "      <th>WorkPerformedFor</th>\n",
       "      <th>BuyerName</th>\n",
       "      <th>Hours</th>\n",
       "      <th>Division</th>\n",
       "      <th>SLA</th>\n",
       "      <th>Planned</th>\n",
       "      <th>CategoryID</th>\n",
       "      <th>FedReview</th>\n",
       "      <th>ITComponent</th>\n",
       "      <th>LevelCalc</th>\n",
       "      <th>Met_SLA</th>\n",
       "      <th>DurationCat</th>\n",
       "    </tr>\n",
       "  </thead>\n",
       "  <tbody>\n",
       "    <tr>\n",
       "      <th>0</th>\n",
       "      <td>Green</td>\n",
       "      <td>CN</td>\n",
       "      <td>keilenn</td>\n",
       "      <td>071</td>\n",
       "      <td>JY1</td>\n",
       "      <td>0.0</td>\n",
       "      <td>PROF</td>\n",
       "      <td>63</td>\n",
       "      <td>Yes</td>\n",
       "      <td>50</td>\n",
       "      <td>False</td>\n",
       "      <td>False</td>\n",
       "      <td>3</td>\n",
       "      <td>1</td>\n",
       "      <td>1</td>\n",
       "    </tr>\n",
       "    <tr>\n",
       "      <th>1</th>\n",
       "      <td>Green</td>\n",
       "      <td>RFP</td>\n",
       "      <td>Gibrilm</td>\n",
       "      <td>000</td>\n",
       "      <td>YMD</td>\n",
       "      <td>120.0</td>\n",
       "      <td>COMM</td>\n",
       "      <td>138</td>\n",
       "      <td>Yes</td>\n",
       "      <td>185</td>\n",
       "      <td>False</td>\n",
       "      <td>False</td>\n",
       "      <td>2</td>\n",
       "      <td>1</td>\n",
       "      <td>2</td>\n",
       "    </tr>\n",
       "    <tr>\n",
       "      <th>2</th>\n",
       "      <td>Green</td>\n",
       "      <td>RFP</td>\n",
       "      <td>Gibrilm</td>\n",
       "      <td>000</td>\n",
       "      <td>YMD</td>\n",
       "      <td>120.0</td>\n",
       "      <td>COMM</td>\n",
       "      <td>138</td>\n",
       "      <td>No</td>\n",
       "      <td>184</td>\n",
       "      <td>False</td>\n",
       "      <td>False</td>\n",
       "      <td>3</td>\n",
       "      <td>1</td>\n",
       "      <td>2</td>\n",
       "    </tr>\n",
       "    <tr>\n",
       "      <th>3</th>\n",
       "      <td>Green</td>\n",
       "      <td>RFP</td>\n",
       "      <td>Gibrilm</td>\n",
       "      <td>591</td>\n",
       "      <td>YMD</td>\n",
       "      <td>120.0</td>\n",
       "      <td>COMM</td>\n",
       "      <td>138</td>\n",
       "      <td>No</td>\n",
       "      <td>301</td>\n",
       "      <td>False</td>\n",
       "      <td>False</td>\n",
       "      <td>2</td>\n",
       "      <td>1</td>\n",
       "      <td>3</td>\n",
       "    </tr>\n",
       "    <tr>\n",
       "      <th>4</th>\n",
       "      <td>Green</td>\n",
       "      <td>RFP</td>\n",
       "      <td>Gibrilm</td>\n",
       "      <td>431</td>\n",
       "      <td>SR4</td>\n",
       "      <td>120.0</td>\n",
       "      <td>COMM</td>\n",
       "      <td>138</td>\n",
       "      <td>No</td>\n",
       "      <td>143</td>\n",
       "      <td>False</td>\n",
       "      <td>False</td>\n",
       "      <td>4</td>\n",
       "      <td>0</td>\n",
       "      <td>4</td>\n",
       "    </tr>\n",
       "  </tbody>\n",
       "</table>\n",
       "</div>"
      ],
      "text/plain": [
       "  ProjectColor ProjectType CreatedBy WorkPerformedFor BuyerName  Hours  \\\n",
       "0        Green          CN   keilenn              071       JY1    0.0   \n",
       "1        Green         RFP   Gibrilm              000       YMD  120.0   \n",
       "2        Green         RFP   Gibrilm              000       YMD  120.0   \n",
       "3        Green         RFP   Gibrilm              591       YMD  120.0   \n",
       "4        Green         RFP   Gibrilm              431       SR4  120.0   \n",
       "\n",
       "  Division  SLA Planned  CategoryID  FedReview  ITComponent LevelCalc  \\\n",
       "0     PROF   63     Yes          50      False        False         3   \n",
       "1     COMM  138     Yes         185      False        False         2   \n",
       "2     COMM  138      No         184      False        False         3   \n",
       "3     COMM  138      No         301      False        False         2   \n",
       "4     COMM  138      No         143      False        False         4   \n",
       "\n",
       "   Met_SLA  DurationCat  \n",
       "0        1            1  \n",
       "1        1            2  \n",
       "2        1            2  \n",
       "3        1            3  \n",
       "4        0            4  "
      ]
     },
     "execution_count": 76,
     "metadata": {},
     "output_type": "execute_result"
    }
   ],
   "source": [
    "#putting duration ranges into categories\n",
    "\n",
    "duration = []\n",
    "for item in model2_df['Duration'].to_list():\n",
    "    if abs(int(item)) >=0 and abs(int(item)) < 50:\n",
    "        duration.append(1)\n",
    "    elif abs(int(item)) >=50 and abs(int(item)) < 100:\n",
    "        duration.append(2)\n",
    "    elif abs(int(item)) >=100 and abs(int(item)) < 150:\n",
    "        duration.append(3)\n",
    "    elif abs(int(item)) >=150 and abs(int(item)) < 200:\n",
    "        duration.append(4)\n",
    "    elif abs(int(item)) >=200 and abs(int(item)) < 250:\n",
    "        duration.append(5)\n",
    "    elif abs(int(item)) >=250 and abs(int(item)) < 300:\n",
    "        duration.append(6)\n",
    "    elif abs(int(item)) >=300 and abs(int(item)) < 350:\n",
    "        duration.append(7)\n",
    "    elif abs(int(item)) >=350 and abs(int(item)) < 400:\n",
    "        duration.append(8)\n",
    "    elif abs(int(item)) >=400:\n",
    "        duration.append(9)\n",
    "\n",
    "#creating duration category column\n",
    "model2_df['DurationCat'] = duration\n",
    "model2_df = model2_df.drop(['Duration'], axis = 1)\n",
    "\n",
    "print(model2_df.shape)\n",
    "model2_df.head()\n"
   ]
  },
  {
   "cell_type": "code",
   "execution_count": 77,
   "metadata": {},
   "outputs": [],
   "source": [
    "from sklearn.impute import SimpleImputer\n",
    "#X = model2_df.iloc[:,3 ].values\n",
    "#imputer = SimpleImputer(missing_values=np.nan, strategy='mean')\n",
    "#imputer = imputer.fit(X[:, 1:3])\n",
    "#X[:, 3] = imputer.transform(X[:, 3])\n",
    "\n",
    "#model2_df['DollarAmount'] = model2_df['DollarAmount'].fillna((model2_df['DollarAmount'].mean()))"
   ]
  },
  {
   "cell_type": "code",
   "execution_count": 78,
   "metadata": {},
   "outputs": [
    {
     "data": {
      "text/plain": [
       "<matplotlib.axes._subplots.AxesSubplot at 0x22e54c81f48>"
      ]
     },
     "execution_count": 78,
     "metadata": {},
     "output_type": "execute_result"
    },
    {
     "data": {
      "image/png": "[encoded data removed]",
      "text/plain": [
       "<Figure size 432x288 with 1 Axes>"
      ]
     },
     "metadata": {
      "needs_background": "light"
     },
     "output_type": "display_data"
    }
   ],
   "source": [
    "sns.countplot(model2_df['DurationCat'],label=\"Count\")"
   ]
  },
  {
   "cell_type": "code",
   "execution_count": 79,
   "metadata": {},
   "outputs": [
    {
     "data": {
      "text/plain": [
       "Index(['ProjectColor', 'ProjectType', 'CreatedBy', 'WorkPerformedFor',\n",
       "       'BuyerName', 'Hours', 'Division', 'SLA', 'Planned', 'CategoryID',\n",
       "       'FedReview', 'ITComponent', 'LevelCalc', 'Met_SLA', 'DurationCat'],\n",
       "      dtype='object')"
      ]
     },
     "execution_count": 79,
     "metadata": {},
     "output_type": "execute_result"
    }
   ],
   "source": [
    "model2_df.columns"
   ]
  },
  {
   "cell_type": "markdown",
   "metadata": {},
   "source": [
    "# Feature Selection "
   ]
  },
  {
   "cell_type": "code",
   "execution_count": 80,
   "metadata": {},
   "outputs": [],
   "source": [
    "X = model2_df[['ProjectColor', 'ProjectType', 'CreatedBy',  'WorkPerformedFor', 'BuyerName', 'Hours', 'Division', 'SLA', 'Planned',\n",
    "         'CategoryID', 'FedReview', 'ITComponent', 'LevelCalc', 'Met_SLA']]\n",
    "y = model2_df['DurationCat']"
   ]
  },
  {
   "cell_type": "code",
   "execution_count": 81,
   "metadata": {},
   "outputs": [],
   "source": [
    "from matplotlib import pyplot as plt"
   ]
  },
  {
   "cell_type": "code",
   "execution_count": 82,
   "metadata": {},
   "outputs": [
    {
     "data": {
      "image/png": "[encoded data removed]",
      "text/plain": [
       "<Figure size 792x576 with 2 Axes>"
      ]
     },
     "metadata": {
      "needs_background": "light"
     },
     "output_type": "display_data"
    }
   ],
   "source": [
    "corr = model2_df.corr()\n",
    "plt.figure(figsize=(11,8))\n",
    "sns.heatmap(corr, cmap=\"coolwarm\",annot=True)\n",
    "plt.show()"
   ]
  },
  {
   "cell_type": "code",
   "execution_count": 83,
   "metadata": {},
   "outputs": [
    {
     "name": "stdout",
     "output_type": "stream",
     "text": [
      "Feature number: 0 ProjectColor\n",
      "Feature number: 1 ProjectType\n",
      "Feature number: 2 CreatedBy\n",
      "Feature number: 3 WorkPerformedFor\n",
      "Feature number: 4 BuyerName\n",
      "Feature number: 5 Hours\n",
      "Feature number: 6 Division\n",
      "Feature number: 7 SLA\n",
      "Feature number: 8 Planned\n",
      "Feature number: 9 CategoryID\n",
      "Feature number: 10 FedReview\n",
      "Feature number: 11 ITComponent\n",
      "Feature number: 12 LevelCalc\n",
      "Feature number: 13 Met_SLA\n"
     ]
    }
   ],
   "source": [
    "###--- Functions that prepares data for model--> turns data entries to a form the model can read ---###\n",
    "\n",
    "def prepare_inputs(X_train, X_test):\n",
    "    oe = OrdinalEncoder(handle_unknown = \"use_encoded_value\", unknown_value= 569)\n",
    "    oe.fit(X_train)\n",
    "    X_train_enc = oe.transform(X_train)\n",
    "    X_test_enc = oe.transform(X_test)\n",
    "    return X_train_enc, X_test_enc\n",
    "\n",
    "# prepare target\n",
    "def prepare_targets(y_train, y_test):\n",
    "    le = LabelEncoder()\n",
    "    le.fit(y_train)\n",
    "    y_train_enc = le.transform(y_train)\n",
    "    y_test_enc = le.transform(y_test)\n",
    "    return y_train_enc, y_test_enc\n",
    "\n",
    "# feature selection\n",
    "def select_features(X_train, y_train, X_test):\n",
    "    fs = SelectKBest(score_func=chi2, k='all')\n",
    "    fs.fit(X_train, y_train)\n",
    "    X_train_fs = fs.transform(X_train)\n",
    "    X_test_fs = fs.transform(X_test)\n",
    "    return X_train_fs, X_test_fs, fs\n",
    "\n",
    "X = model2_df.iloc[:, :-1]\n",
    "y = model2_df.iloc[:,-1]\n",
    "    # format all fields as string\n",
    "X = X.astype(str)\n",
    "np.set_printoptions(threshold=sys.maxsize)\n",
    "num = 0\n",
    "feature_name = []\n",
    "for i in X:\n",
    "    print(\"Feature number: \"+str(num)+\" \"+str(i))\n",
    "    num+=1\n",
    "    feature_name.append(i)"
   ]
  },
  {
   "cell_type": "code",
   "execution_count": 84,
   "metadata": {},
   "outputs": [
    {
     "name": "stdout",
     "output_type": "stream",
     "text": [
      "Feature 0: 106.037709\n",
      "Feature 1: 974.281142\n",
      "Feature 2: 173.378386\n",
      "Feature 3: 77.153730\n",
      "Feature 4: 138.020170\n",
      "Feature 5: 1825.519316\n",
      "Feature 6: 7.900681\n",
      "Feature 7: 151.785003\n",
      "Feature 8: 69.979729\n",
      "Feature 9: 158.479049\n",
      "Feature 10: 25.776418\n",
      "Feature 11: 48.973949\n",
      "Feature 12: 5.000824\n",
      "Feature 13: 259.471282\n"
     ]
    }
   ],
   "source": [
    "###--- Running algorithm that selects the best features ---###\n",
    "\n",
    "\n",
    "X_train, X_test, y_train, y_test = train_test_split(X, y, test_size=0.33, random_state=1)\n",
    "# prepare input data\n",
    "X_train_enc, X_test_enc = prepare_inputs(X_train, X_test)\n",
    "# prepare output data\n",
    "y_train_enc, y_test_enc = prepare_targets(y_train, y_test)\n",
    "# feature selection\n",
    "X_train_fs, X_test_fs, fs = select_features(X_train_enc, y_train_enc, X_test_enc)\n",
    "# what are scores for the features\n",
    "feature_score = []\n",
    "for i in range(len(fs.scores_)):\n",
    "    print('Feature %d: %f' % (i, fs.scores_[i]))\n",
    "    feature_score.append(fs.scores_[i])\n",
    "unique_elements, counts_elements = np.unique(y_train_enc, return_counts=True)\n"
   ]
  },
  {
   "cell_type": "code",
   "execution_count": 85,
   "metadata": {},
   "outputs": [
    {
     "name": "stdout",
     "output_type": "stream",
     "text": [
      "0.0\n",
      "0.14\n",
      "0.04\n",
      "0.01\n",
      "0.03\n",
      "0.15\n",
      "0.04\n",
      "0.16\n",
      "0.03\n",
      "0.03\n",
      "0.01\n",
      "0.0\n",
      "0.02\n",
      "0.33\n"
     ]
    }
   ],
   "source": [
    "from sklearn.feature_selection import mutual_info_classif as MIC\n",
    "mi_score = MIC(X_train_enc,y_train_enc,random_state=42)\n",
    "for i in mi_score:\n",
    "    print(round(i,2))"
   ]
  },
  {
   "cell_type": "code",
   "execution_count": 86,
   "metadata": {},
   "outputs": [
    {
     "data": {
      "text/html": [
       "<div>\n",
       "<style scoped>\n",
       "    .dataframe tbody tr th:only-of-type {\n",
       "        vertical-align: middle;\n",
       "    }\n",
       "\n",
       "    .dataframe tbody tr th {\n",
       "        vertical-align: top;\n",
       "    }\n",
       "\n",
       "    .dataframe thead th {\n",
       "        text-align: right;\n",
       "    }\n",
       "</style>\n",
       "<table border=\"1\" class=\"dataframe\">\n",
       "  <thead>\n",
       "    <tr style=\"text-align: right;\">\n",
       "      <th></th>\n",
       "      <th>Feature_Name</th>\n",
       "      <th>Feature_Score</th>\n",
       "      <th>mi_scores</th>\n",
       "    </tr>\n",
       "  </thead>\n",
       "  <tbody>\n",
       "    <tr>\n",
       "      <th>13</th>\n",
       "      <td>Met_SLA</td>\n",
       "      <td>259.471282</td>\n",
       "      <td>0.331606</td>\n",
       "    </tr>\n",
       "    <tr>\n",
       "      <th>7</th>\n",
       "      <td>SLA</td>\n",
       "      <td>151.785003</td>\n",
       "      <td>0.156911</td>\n",
       "    </tr>\n",
       "    <tr>\n",
       "      <th>5</th>\n",
       "      <td>Hours</td>\n",
       "      <td>1825.519316</td>\n",
       "      <td>0.148432</td>\n",
       "    </tr>\n",
       "    <tr>\n",
       "      <th>1</th>\n",
       "      <td>ProjectType</td>\n",
       "      <td>974.281142</td>\n",
       "      <td>0.144667</td>\n",
       "    </tr>\n",
       "    <tr>\n",
       "      <th>2</th>\n",
       "      <td>CreatedBy</td>\n",
       "      <td>173.378386</td>\n",
       "      <td>0.044927</td>\n",
       "    </tr>\n",
       "    <tr>\n",
       "      <th>6</th>\n",
       "      <td>Division</td>\n",
       "      <td>7.900681</td>\n",
       "      <td>0.041554</td>\n",
       "    </tr>\n",
       "    <tr>\n",
       "      <th>9</th>\n",
       "      <td>CategoryID</td>\n",
       "      <td>158.479049</td>\n",
       "      <td>0.034060</td>\n",
       "    </tr>\n",
       "    <tr>\n",
       "      <th>4</th>\n",
       "      <td>BuyerName</td>\n",
       "      <td>138.020170</td>\n",
       "      <td>0.033410</td>\n",
       "    </tr>\n",
       "    <tr>\n",
       "      <th>8</th>\n",
       "      <td>Planned</td>\n",
       "      <td>69.979729</td>\n",
       "      <td>0.027905</td>\n",
       "    </tr>\n",
       "    <tr>\n",
       "      <th>12</th>\n",
       "      <td>LevelCalc</td>\n",
       "      <td>5.000824</td>\n",
       "      <td>0.016798</td>\n",
       "    </tr>\n",
       "    <tr>\n",
       "      <th>3</th>\n",
       "      <td>WorkPerformedFor</td>\n",
       "      <td>77.153730</td>\n",
       "      <td>0.006053</td>\n",
       "    </tr>\n",
       "    <tr>\n",
       "      <th>10</th>\n",
       "      <td>FedReview</td>\n",
       "      <td>25.776418</td>\n",
       "      <td>0.005527</td>\n",
       "    </tr>\n",
       "    <tr>\n",
       "      <th>0</th>\n",
       "      <td>ProjectColor</td>\n",
       "      <td>106.037709</td>\n",
       "      <td>0.000000</td>\n",
       "    </tr>\n",
       "    <tr>\n",
       "      <th>11</th>\n",
       "      <td>ITComponent</td>\n",
       "      <td>48.973949</td>\n",
       "      <td>0.000000</td>\n",
       "    </tr>\n",
       "  </tbody>\n",
       "</table>\n",
       "</div>"
      ],
      "text/plain": [
       "        Feature_Name  Feature_Score  mi_scores\n",
       "13           Met_SLA     259.471282   0.331606\n",
       "7                SLA     151.785003   0.156911\n",
       "5              Hours    1825.519316   0.148432\n",
       "1        ProjectType     974.281142   0.144667\n",
       "2          CreatedBy     173.378386   0.044927\n",
       "6           Division       7.900681   0.041554\n",
       "9         CategoryID     158.479049   0.034060\n",
       "4          BuyerName     138.020170   0.033410\n",
       "8            Planned      69.979729   0.027905\n",
       "12         LevelCalc       5.000824   0.016798\n",
       "3   WorkPerformedFor      77.153730   0.006053\n",
       "10         FedReview      25.776418   0.005527\n",
       "0       ProjectColor     106.037709   0.000000\n",
       "11       ITComponent      48.973949   0.000000"
      ]
     },
     "execution_count": 86,
     "metadata": {},
     "output_type": "execute_result"
    }
   ],
   "source": [
    "df_featur_selection = pd.DataFrame()\n",
    "df_featur_selection['Feature_Name'] = feature_name\n",
    "df_featur_selection['Feature_Score'] = feature_score\n",
    "df_featur_selection['mi_scores'] = mi_score\n",
    "df_featur_selection = df_featur_selection.sort_values(by ='mi_scores',ascending=False )\n",
    "\n",
    "df_featur_selection"
   ]
  },
  {
   "cell_type": "code",
   "execution_count": 87,
   "metadata": {},
   "outputs": [
    {
     "data": {
      "image/png": "[encoded data removed]",
      "text/plain": [
       "<Figure size 1080x360 with 1 Axes>"
      ]
     },
     "metadata": {
      "needs_background": "light"
     },
     "output_type": "display_data"
    }
   ],
   "source": [
    "fig = plt.figure(figsize = (15, 5))\n",
    " \n",
    "# creating the bar plot\n",
    "bar = plt.bar(df_featur_selection['Feature_Name'], df_featur_selection['mi_scores'], color ='lightblue',\n",
    "        width = 0.4)\n",
    "plt.xticks(rotation = 45)\n",
    "plt.xlabel(\"Feature Name\")\n",
    "plt.ylabel(\"Score\")\n",
    "plt.title(\"Feature Selection\")\n",
    "plt.show()"
   ]
  },
  {
   "cell_type": "code",
   "execution_count": 88,
   "metadata": {},
   "outputs": [
    {
     "data": {
      "image/png": "[encoded data removed]",
      "text/plain": [
       "<Figure size 1080x360 with 1 Axes>"
      ]
     },
     "metadata": {
      "needs_background": "light"
     },
     "output_type": "display_data"
    }
   ],
   "source": [
    "\n",
    "fig = plt.figure(figsize = (15, 5))\n",
    " \n",
    "# creating the bar plot\n",
    "bar = plt.bar(df_featur_selection['Feature_Name'], df_featur_selection['Feature_Score'], color ='lightblue',\n",
    "        width = 0.4)\n",
    "plt.xticks(rotation = 45)\n",
    "plt.xlabel(\"Feature Name\")\n",
    "plt.ylabel(\"Score\")\n",
    "plt.title(\"Feature Selection\")\n",
    "plt.show()"
   ]
  },
  {
   "cell_type": "markdown",
   "metadata": {},
   "source": [
    "# Bias handling and Model Selection "
   ]
  },
  {
   "cell_type": "code",
   "execution_count": 89,
   "metadata": {},
   "outputs": [],
   "source": [
    "X_train_enc = np.delete(X_train_enc, np.s_[10, 11], 1)\n",
    "X_test_enc = np.delete(X_test_enc, np.s_[10, 11], 1)"
   ]
  },
  {
   "cell_type": "code",
   "execution_count": 90,
   "metadata": {},
   "outputs": [
    {
     "name": "stderr",
     "output_type": "stream",
     "text": [
      "C:\\Users\\gibrilm\\AppData\\Local\\Continuum\\anaconda3\\lib\\site-packages\\imblearn\\utils\\_validation.py:300: UserWarning: After over-sampling, the number of samples (2500) in class 0 will be larger than the number of samples in the majority class (class #0 -> 1766)\n",
      "  f\"After over-sampling, the number of samples ({n_samples})\"\n",
      "C:\\Users\\gibrilm\\AppData\\Local\\Continuum\\anaconda3\\lib\\site-packages\\imblearn\\utils\\_validation.py:300: UserWarning: After over-sampling, the number of samples (2500) in class 1 will be larger than the number of samples in the majority class (class #0 -> 1766)\n",
      "  f\"After over-sampling, the number of samples ({n_samples})\"\n",
      "C:\\Users\\gibrilm\\AppData\\Local\\Continuum\\anaconda3\\lib\\site-packages\\imblearn\\utils\\_validation.py:300: UserWarning: After over-sampling, the number of samples (2000) in class 2 will be larger than the number of samples in the majority class (class #0 -> 1766)\n",
      "  f\"After over-sampling, the number of samples ({n_samples})\"\n",
      "C:\\Users\\gibrilm\\AppData\\Local\\Continuum\\anaconda3\\lib\\site-packages\\imblearn\\utils\\_validation.py:300: UserWarning: After over-sampling, the number of samples (2000) in class 3 will be larger than the number of samples in the majority class (class #0 -> 1766)\n",
      "  f\"After over-sampling, the number of samples ({n_samples})\"\n",
      "C:\\Users\\gibrilm\\AppData\\Local\\Continuum\\anaconda3\\lib\\site-packages\\imblearn\\utils\\_validation.py:300: UserWarning: After over-sampling, the number of samples (2000) in class 4 will be larger than the number of samples in the majority class (class #0 -> 1766)\n",
      "  f\"After over-sampling, the number of samples ({n_samples})\"\n",
      "C:\\Users\\gibrilm\\AppData\\Local\\Continuum\\anaconda3\\lib\\site-packages\\imblearn\\utils\\_validation.py:300: UserWarning: After over-sampling, the number of samples (2000) in class 5 will be larger than the number of samples in the majority class (class #0 -> 1766)\n",
      "  f\"After over-sampling, the number of samples ({n_samples})\"\n",
      "C:\\Users\\gibrilm\\AppData\\Local\\Continuum\\anaconda3\\lib\\site-packages\\imblearn\\utils\\_validation.py:300: UserWarning: After over-sampling, the number of samples (2000) in class 6 will be larger than the number of samples in the majority class (class #0 -> 1766)\n",
      "  f\"After over-sampling, the number of samples ({n_samples})\"\n",
      "C:\\Users\\gibrilm\\AppData\\Local\\Continuum\\anaconda3\\lib\\site-packages\\imblearn\\utils\\_validation.py:300: UserWarning: After over-sampling, the number of samples (2000) in class 8 will be larger than the number of samples in the majority class (class #0 -> 1766)\n",
      "  f\"After over-sampling, the number of samples ({n_samples})\"\n"
     ]
    }
   ],
   "source": [
    "oversample = SMOTE(random_state=42, sampling_strategy={0:2500, 1:2500, 2:2000, 3:2000, 4:2000, 5:2000, 6:2000, 8:2000})\n",
    "X_s, y_s = oversample.fit_resample(X_train_enc, y_train_enc)"
   ]
  },
  {
   "cell_type": "code",
   "execution_count": 64,
   "metadata": {},
   "outputs": [],
   "source": [
    "def ave_score(model):\n",
    "    scores=[]\n",
    "    for i in range(10):\n",
    "        model.fit(X_s, y_s)\n",
    "        score = model.score(X_test_enc, y_test_enc)\n",
    "        scores.append(score)\n",
    "    return sum(scores)/len(scores)\n",
    "    "
   ]
  },
  {
   "cell_type": "code",
   "execution_count": 66,
   "metadata": {},
   "outputs": [],
   "source": [
    "#ave_score(RandomForestClassifier(n_estimators=1000))"
   ]
  },
  {
   "cell_type": "code",
   "execution_count": 114,
   "metadata": {},
   "outputs": [
    {
     "name": "stdout",
     "output_type": "stream",
     "text": [
      "Nearest Neighbors 0.618491921005386\n",
      "Linear SVM 0.8527827648114902\n",
      "RBF SVM 0.44703770197486536\n",
      "Decision Tree 0.8707360861759426\n",
      "Random Forest 0.881508078994614\n",
      "Neural Net 0.829443447037702\n",
      "AdaBoost 0.059245960502693\n",
      "Naive Bayes 0.7935368043087971\n",
      "QDA 0.7639138240574507\n"
     ]
    },
    {
     "name": "stderr",
     "output_type": "stream",
     "text": [
      "C:\\Users\\gibrilm\\AppData\\Local\\Continuum\\anaconda3\\lib\\site-packages\\sklearn\\discriminant_analysis.py:878: UserWarning: Variables are collinear\n",
      "  warnings.warn(\"Variables are collinear\")\n",
      "C:\\Users\\gibrilm\\AppData\\Local\\Continuum\\anaconda3\\lib\\site-packages\\sklearn\\discriminant_analysis.py:903: RuntimeWarning: divide by zero encountered in power\n",
      "  X2 = np.dot(Xm, R * (S ** (-0.5)))\n",
      "C:\\Users\\gibrilm\\AppData\\Local\\Continuum\\anaconda3\\lib\\site-packages\\sklearn\\discriminant_analysis.py:903: RuntimeWarning: invalid value encountered in multiply\n",
      "  X2 = np.dot(Xm, R * (S ** (-0.5)))\n",
      "C:\\Users\\gibrilm\\AppData\\Local\\Continuum\\anaconda3\\lib\\site-packages\\sklearn\\discriminant_analysis.py:906: RuntimeWarning: divide by zero encountered in log\n",
      "  u = np.asarray([np.sum(np.log(s)) for s in self.scalings_])\n"
     ]
    },
    {
     "data": {
      "text/html": [
       "<div>\n",
       "<style scoped>\n",
       "    .dataframe tbody tr th:only-of-type {\n",
       "        vertical-align: middle;\n",
       "    }\n",
       "\n",
       "    .dataframe tbody tr th {\n",
       "        vertical-align: top;\n",
       "    }\n",
       "\n",
       "    .dataframe thead th {\n",
       "        text-align: right;\n",
       "    }\n",
       "</style>\n",
       "<table border=\"1\" class=\"dataframe\">\n",
       "  <thead>\n",
       "    <tr style=\"text-align: right;\">\n",
       "      <th></th>\n",
       "      <th>model Name</th>\n",
       "      <th>score</th>\n",
       "    </tr>\n",
       "  </thead>\n",
       "  <tbody>\n",
       "    <tr>\n",
       "      <th>0</th>\n",
       "      <td>Nearest Neighbors</td>\n",
       "      <td>0.618492</td>\n",
       "    </tr>\n",
       "    <tr>\n",
       "      <th>1</th>\n",
       "      <td>Linear SVM</td>\n",
       "      <td>0.852783</td>\n",
       "    </tr>\n",
       "    <tr>\n",
       "      <th>2</th>\n",
       "      <td>RBF SVM</td>\n",
       "      <td>0.447038</td>\n",
       "    </tr>\n",
       "    <tr>\n",
       "      <th>3</th>\n",
       "      <td>Decision Tree</td>\n",
       "      <td>0.870736</td>\n",
       "    </tr>\n",
       "    <tr>\n",
       "      <th>4</th>\n",
       "      <td>Random Forest</td>\n",
       "      <td>0.881508</td>\n",
       "    </tr>\n",
       "    <tr>\n",
       "      <th>5</th>\n",
       "      <td>Neural Net</td>\n",
       "      <td>0.829443</td>\n",
       "    </tr>\n",
       "    <tr>\n",
       "      <th>6</th>\n",
       "      <td>AdaBoost</td>\n",
       "      <td>0.059246</td>\n",
       "    </tr>\n",
       "    <tr>\n",
       "      <th>7</th>\n",
       "      <td>Naive Bayes</td>\n",
       "      <td>0.793537</td>\n",
       "    </tr>\n",
       "    <tr>\n",
       "      <th>8</th>\n",
       "      <td>QDA</td>\n",
       "      <td>0.763914</td>\n",
       "    </tr>\n",
       "  </tbody>\n",
       "</table>\n",
       "</div>"
      ],
      "text/plain": [
       "          model Name     score\n",
       "0  Nearest Neighbors  0.618492\n",
       "1         Linear SVM  0.852783\n",
       "2            RBF SVM  0.447038\n",
       "3      Decision Tree  0.870736\n",
       "4      Random Forest  0.881508\n",
       "5         Neural Net  0.829443\n",
       "6           AdaBoost  0.059246\n",
       "7        Naive Bayes  0.793537\n",
       "8                QDA  0.763914"
      ]
     },
     "execution_count": 114,
     "metadata": {},
     "output_type": "execute_result"
    }
   ],
   "source": [
    "import numpy as np\n",
    "import matplotlib.pyplot as plt\n",
    "from matplotlib.colors import ListedColormap\n",
    "from sklearn.model_selection import train_test_split\n",
    "from sklearn.preprocessing import StandardScaler\n",
    "from sklearn.datasets import make_moons, make_circles, make_classification\n",
    "from sklearn.neural_network import MLPClassifier\n",
    "from sklearn.neighbors import KNeighborsClassifier\n",
    "from sklearn.svm import SVC\n",
    "from sklearn.gaussian_process import GaussianProcessClassifier\n",
    "from sklearn.gaussian_process.kernels import RBF\n",
    "from sklearn.tree import DecisionTreeClassifier\n",
    "from sklearn.ensemble import RandomForestClassifier, AdaBoostClassifier\n",
    "from sklearn.naive_bayes import GaussianNB\n",
    "from sklearn.discriminant_analysis import QuadraticDiscriminantAnalysis\n",
    "result_df = pd.DataFrame()\n",
    "\n",
    "names = [\n",
    "    \"Nearest Neighbors\",\n",
    "    \"Linear SVM\",\n",
    "    \"RBF SVM\",\n",
    "    \"Decision Tree\",\n",
    "    \"Random Forest\",\n",
    "    \"Neural Net\",\n",
    "    \"AdaBoost\",\n",
    "    \"Naive Bayes\",\n",
    "    \"QDA\",\n",
    "]\n",
    "random_state=42\n",
    "classifiers = [\n",
    "    KNeighborsClassifier(3),\n",
    "    SVC(kernel=\"linear\", C=0.025,random_state=random_state),\n",
    "    SVC(gamma=2, C=1,random_state=random_state),\n",
    "    DecisionTreeClassifier(max_depth=5),\n",
    "    RandomForestClassifier(max_depth=9, n_estimators=1000, max_features=1,random_state=random_state),\n",
    "    MLPClassifier(alpha=1, max_iter=1000,random_state=random_state),\n",
    "    AdaBoostClassifier(random_state=random_state),\n",
    "    GaussianNB(),\n",
    "    QuadraticDiscriminantAnalysis(),\n",
    "]\n",
    "\n",
    "name_lst= []\n",
    "result_model=[]\n",
    "for name, clf in zip(names, classifiers):\n",
    "            clf.fit(X_s, y_s)\n",
    "            score = clf.score(X_test_enc, y_test_enc)\n",
    "            #score= ave_score(clf)\n",
    "            name_lst.append(name)\n",
    "            result_model.append(score)\n",
    "            print(name, score)\n",
    "        \n",
    "       \n",
    "result_df['model Name'] = name_lst\n",
    "result_df['score'] = result_model\n",
    "\n",
    "result_df"
   ]
  },
  {
   "cell_type": "code",
   "execution_count": null,
   "metadata": {},
   "outputs": [],
   "source": []
  },
  {
   "cell_type": "code",
   "execution_count": null,
   "metadata": {},
   "outputs": [],
   "source": []
  },
  {
   "cell_type": "code",
   "execution_count": null,
   "metadata": {},
   "outputs": [],
   "source": []
  },
  {
   "cell_type": "code",
   "execution_count": 115,
   "metadata": {},
   "outputs": [
    {
     "data": {
      "image/png": "[encoded data removed]",
      "text/plain": [
       "<Figure size 1080x360 with 1 Axes>"
      ]
     },
     "metadata": {
      "needs_background": "light"
     },
     "output_type": "display_data"
    }
   ],
   "source": [
    "result_df = result_df.sort_values(by= 'score',ascending=False )\n",
    "\n",
    "fig = plt.figure(figsize = (15, 5))\n",
    " \n",
    "# creating the bar plot\n",
    "bar = plt.bar(result_df['model Name'], result_df['score'], color ='lightblue',\n",
    "        width = 0.4)\n",
    "plt.xticks(rotation = 45)\n",
    "plt.xlabel(\"Model Name\")\n",
    "plt.ylabel(\"Score\")\n",
    "plt.title(\"Accuracy Scores for different models\")\n",
    "\n",
    "for x,y in zip(result_df['model Name'], result_df['score']):\n",
    "\n",
    "    label = \"{:.3f}\".format(y)\n",
    "    plt.annotate(label,\n",
    "                 (x,y), \n",
    "                 textcoords=\"offset points\", \n",
    "                 xytext=(0,3), \n",
    "                 ha='center') \n",
    "bar[0].set_color('lightgreen')\n",
    "#plt.text(4.5,.85,'Random Forest Classifier'+str(max(result_df['score'])))\n",
    "plt.show()"
   ]
  },
  {
   "cell_type": "code",
   "execution_count": 24,
   "metadata": {},
   "outputs": [
    {
     "name": "stderr",
     "output_type": "stream",
     "text": [
      "C:\\Users\\gibrilm\\AppData\\Local\\Continuum\\anaconda3\\lib\\site-packages\\imblearn\\utils\\_validation.py:300: UserWarning: After over-sampling, the number of samples (2500) in class 0 will be larger than the number of samples in the majority class (class #0 -> 1766)\n",
      "  f\"After over-sampling, the number of samples ({n_samples})\"\n",
      "C:\\Users\\gibrilm\\AppData\\Local\\Continuum\\anaconda3\\lib\\site-packages\\imblearn\\utils\\_validation.py:300: UserWarning: After over-sampling, the number of samples (2500) in class 1 will be larger than the number of samples in the majority class (class #0 -> 1766)\n",
      "  f\"After over-sampling, the number of samples ({n_samples})\"\n",
      "C:\\Users\\gibrilm\\AppData\\Local\\Continuum\\anaconda3\\lib\\site-packages\\imblearn\\utils\\_validation.py:300: UserWarning: After over-sampling, the number of samples (2000) in class 2 will be larger than the number of samples in the majority class (class #0 -> 1766)\n",
      "  f\"After over-sampling, the number of samples ({n_samples})\"\n",
      "C:\\Users\\gibrilm\\AppData\\Local\\Continuum\\anaconda3\\lib\\site-packages\\imblearn\\utils\\_validation.py:300: UserWarning: After over-sampling, the number of samples (2000) in class 3 will be larger than the number of samples in the majority class (class #0 -> 1766)\n",
      "  f\"After over-sampling, the number of samples ({n_samples})\"\n",
      "C:\\Users\\gibrilm\\AppData\\Local\\Continuum\\anaconda3\\lib\\site-packages\\imblearn\\utils\\_validation.py:300: UserWarning: After over-sampling, the number of samples (2000) in class 4 will be larger than the number of samples in the majority class (class #0 -> 1766)\n",
      "  f\"After over-sampling, the number of samples ({n_samples})\"\n",
      "C:\\Users\\gibrilm\\AppData\\Local\\Continuum\\anaconda3\\lib\\site-packages\\imblearn\\utils\\_validation.py:300: UserWarning: After over-sampling, the number of samples (2000) in class 5 will be larger than the number of samples in the majority class (class #0 -> 1766)\n",
      "  f\"After over-sampling, the number of samples ({n_samples})\"\n",
      "C:\\Users\\gibrilm\\AppData\\Local\\Continuum\\anaconda3\\lib\\site-packages\\imblearn\\utils\\_validation.py:300: UserWarning: After over-sampling, the number of samples (2000) in class 6 will be larger than the number of samples in the majority class (class #0 -> 1766)\n",
      "  f\"After over-sampling, the number of samples ({n_samples})\"\n",
      "C:\\Users\\gibrilm\\AppData\\Local\\Continuum\\anaconda3\\lib\\site-packages\\imblearn\\utils\\_validation.py:300: UserWarning: After over-sampling, the number of samples (2000) in class 8 will be larger than the number of samples in the majority class (class #0 -> 1766)\n",
      "  f\"After over-sampling, the number of samples ({n_samples})\"\n"
     ]
    },
    {
     "name": "stdout",
     "output_type": "stream",
     "text": [
      "Mean Accuracy: 0.871 (0.016)\n"
     ]
    }
   ],
   "source": [
    "def evaluate_model(X, y, model):\n",
    "    # define evaluation procedure\n",
    "    cv = RepeatedStratifiedKFold(n_splits=5, n_repeats=3, random_state=1)\n",
    "    # evaluate model\n",
    "    scores = cross_val_score(model, X, y, scoring='accuracy', cv=cv, n_jobs=-1)\n",
    "    return scores\n",
    "\n",
    "#run algorithm multiple times to get desired accuracy\n",
    "desired_accu = 0\n",
    "while desired_accu < 0.87:\n",
    "\n",
    "    \n",
    "    #oversample training data to avoid skewness\n",
    "    oversample = SMOTE(random_state=42, sampling_strategy={0:2500, 1:2500, 2:2000, 3:2000, 4:2000, 5:2000, 6:2000, 8:2000})\n",
    "    X_s, y_s = oversample.fit_resample(X_train_enc, y_train_enc)\n",
    "    #X_test = X_test.to_numpy()\n",
    "\n",
    "    model = RandomForestClassifier(n_estimators=1000).fit(X_s, y_s)\n",
    "\n",
    "    model = model.fit(X_s, y_s)\n",
    "    # evaluate the model\n",
    "    scores = evaluate_model(X_test_enc, y_test_enc, model)\n",
    "    desired_accu = np.mean(scores)\n",
    "    print('Mean Accuracy: %.3f (%.3f)' % (np.mean(scores), np.std(scores)))\n",
    "\n"
   ]
  },
  {
   "cell_type": "code",
   "execution_count": 116,
   "metadata": {},
   "outputs": [
    {
     "name": "stdout",
     "output_type": "stream",
     "text": [
      "Mean Accuracy: 0.871\n"
     ]
    }
   ],
   "source": [
    "model = DecisionTreeClassifier(max_depth=5)\n",
    "model = model.fit(X_s, y_s)\n",
    "    # evaluate the model\n",
    "score = model.score(X_test_enc, y_test_enc)\n",
    "   \n",
    "print('Mean Accuracy: %.3f' % (score))"
   ]
  },
  {
   "cell_type": "code",
   "execution_count": 130,
   "metadata": {
    "scrolled": true
   },
   "outputs": [],
   "source": [
    "max_depth_dt = []\n",
    "scores_dt = []\n",
    "for i in range(1,30):\n",
    "    model = DecisionTreeClassifier(max_depth=i)\n",
    "    model = model.fit(X_s, y_s)\n",
    "    score = model.score(X_test_enc, y_test_enc)\n",
    "    max_depth_dt.append(i)\n",
    "    scores_dt.append(score)\n",
    "\n"
   ]
  },
  {
   "cell_type": "code",
   "execution_count": 131,
   "metadata": {},
   "outputs": [
    {
     "data": {
      "image/png": "[encoded data removed]",
      "text/plain": [
       "<Figure size 432x288 with 1 Axes>"
      ]
     },
     "metadata": {
      "needs_background": "light"
     },
     "output_type": "display_data"
    }
   ],
   "source": [
    "plt.plot(max_depth_dt,scores_dt)\n",
    "plt.title('title name')\n",
    "plt.xlabel('xAxis name')\n",
    "plt.ylabel('yAxis name')\n",
    "plt.show()"
   ]
  },
  {
   "cell_type": "code",
   "execution_count": 122,
   "metadata": {},
   "outputs": [],
   "source": [
    "max_depth_rf = []\n",
    "scores_rf = []\n",
    "for i in range(1,20):\n",
    "    model = RandomForestClassifier(max_depth=i, n_estimators=1000, max_features=1,random_state=42)\n",
    "    model = model.fit(X_s, y_s)\n",
    "    score = model.score(X_test_enc, y_test_enc)\n",
    "    max_depth_rf.append(i)\n",
    "    scores_rf.append(score)"
   ]
  },
  {
   "cell_type": "code",
   "execution_count": 132,
   "metadata": {},
   "outputs": [
    {
     "data": {
      "image/png": "[encoded data removed]",
      "text/plain": [
       "<Figure size 432x288 with 1 Axes>"
      ]
     },
     "metadata": {
      "needs_background": "light"
     },
     "output_type": "display_data"
    }
   ],
   "source": [
    "line=plt.plot(max_depth_rf,scores_rf)\n",
    "plt.title('title name')\n",
    "plt.xlabel('xAxis name')\n",
    "plt.ylabel('yAxis name')\n",
    "plt.show()"
   ]
  },
  {
   "cell_type": "code",
   "execution_count": null,
   "metadata": {},
   "outputs": [],
   "source": []
  }
 ],
 "metadata": {
  "kernelspec": {
   "display_name": "Python 3",
   "language": "python",
   "name": "python3"
  },
  "language_info": {
   "codemirror_mode": {
    "name": "ipython",
    "version": 3
   },
   "file_extension": ".py",
   "mimetype": "text/x-python",
   "name": "python",
   "nbconvert_exporter": "python",
   "pygments_lexer": "ipython3",
   "version": "3.7.4"
  }
 },
 "nbformat": 4,
 "nbformat_minor": 2
}
