{
 "cells": [
  {
   "cell_type": "code",
   "execution_count": 1,
   "id": "8247baef",
   "metadata": {},
   "outputs": [],
   "source": [
    "import numpy as np\n",
    "import pandas as pd\n",
    "\n",
    "import nltk\n",
    "import gensim\n",
    "\n",
    "from sklearn.decomposition import PCA\n",
    "from sklearn.cluster import KMeans\n",
    "from sklearn.mixture import GaussianMixture\n",
    "\n",
    "\n",
    "import matplotlib.pyplot as plt\n",
    "import seaborn as sns\n",
    "\n",
    "import tqdm"
   ]
  },
  {
   "cell_type": "markdown",
   "id": "953104b6",
   "metadata": {},
   "source": [
    "## 1.load data"
   ]
  },
  {
   "cell_type": "code",
   "execution_count": 2,
   "id": "cdca1659",
   "metadata": {},
   "outputs": [],
   "source": [
    "df=pd.read_csv('Data/Data_I-hope.csv')"
   ]
  },
  {
   "cell_type": "code",
   "execution_count": 3,
   "id": "b321f7a7",
   "metadata": {},
   "outputs": [],
   "source": [
    "#col set depends on data type\n",
    "ID_col='ID'\n",
    "\n",
    "num_cols=['DollarAmount','Hours','SizeOfSpend','MultiAgency','BusinessProcessImpact',\n",
    "          'TechChange','PublicSafety','MarketRisk','Sensitivity','Leveragability',\n",
    "          'LevelCalc']\n",
    "cat_cols=['ProjectColor','ProjectType','CreatedBy','WorkPerformedFor','BuyerName',\n",
    "          'Division_x','SourcingCategory','CategoryID_x','FedReview','ITComponent',\n",
    "          'Grouping','CommodityCategory','BuyerInitials','Division_y','CategoryID_y']\n",
    "text_cols=['ProjectDescription']\n",
    "time_cols=['CreateDate']\n",
    "\n",
    "\n",
    "#useless or \n",
    "#can not get before make prediction\n",
    "drop_cols=['SharePointID','PlanStartDate','PlanFinishDate','StatusDate',\n",
    "           'Status','RefrenceNumber','ProjectStage','CancelationReason',\n",
    "           'SensitivityIndicator','ActualFinishDate','Unit','SLA','ProjectName',\n",
    "           'Planned','SolicitationStatus','LastUpdatedBy','LastUpdateDate',\n",
    "           'LastUpdatedField','SolicitationNum','Score','Unnamed: 0']"
   ]
  },
  {
   "cell_type": "code",
   "execution_count": 4,
   "id": "aabcc473",
   "metadata": {},
   "outputs": [
    {
     "data": {
      "text/plain": [
       "(5490, 29)"
      ]
     },
     "execution_count": 4,
     "metadata": {},
     "output_type": "execute_result"
    }
   ],
   "source": [
    "df=df.drop(drop_cols,axis=1)\n",
    "df=df.drop_duplicates(subset=['ID']) #3 dulicates ID\n",
    "df=df.dropna(subset=['ID'])\n",
    "df=df.reset_index().drop('index',axis=1)\n",
    "\n",
    "df.shape"
   ]
  },
  {
   "cell_type": "markdown",
   "id": "2a03a4ed",
   "metadata": {},
   "source": [
    "## 2.features selection\n",
    " - I will only keep features which contains more information. (arbitrary)"
   ]
  },
  {
   "cell_type": "code",
   "execution_count": 5,
   "id": "b1020914",
   "metadata": {},
   "outputs": [],
   "source": [
    "noinfo_cols=[]"
   ]
  },
  {
   "cell_type": "code",
   "execution_count": 6,
   "id": "754a9040",
   "metadata": {},
   "outputs": [
    {
     "data": {
      "text/html": [
       "<div>\n",
       "<style scoped>\n",
       "    .dataframe tbody tr th:only-of-type {\n",
       "        vertical-align: middle;\n",
       "    }\n",
       "\n",
       "    .dataframe tbody tr th {\n",
       "        vertical-align: top;\n",
       "    }\n",
       "\n",
       "    .dataframe thead th {\n",
       "        text-align: right;\n",
       "    }\n",
       "</style>\n",
       "<table border=\"1\" class=\"dataframe\">\n",
       "  <thead>\n",
       "    <tr style=\"text-align: right;\">\n",
       "      <th></th>\n",
       "      <th>DollarAmount</th>\n",
       "      <th>Hours</th>\n",
       "      <th>SizeOfSpend</th>\n",
       "      <th>MultiAgency</th>\n",
       "      <th>BusinessProcessImpact</th>\n",
       "      <th>TechChange</th>\n",
       "      <th>PublicSafety</th>\n",
       "      <th>MarketRisk</th>\n",
       "      <th>Sensitivity</th>\n",
       "      <th>Leveragability</th>\n",
       "      <th>LevelCalc</th>\n",
       "    </tr>\n",
       "  </thead>\n",
       "  <tbody>\n",
       "    <tr>\n",
       "      <th>count</th>\n",
       "      <td>5.490000e+03</td>\n",
       "      <td>5490.000000</td>\n",
       "      <td>5490.000000</td>\n",
       "      <td>5490.000000</td>\n",
       "      <td>5490.000000</td>\n",
       "      <td>5490.00000</td>\n",
       "      <td>5490.000000</td>\n",
       "      <td>5490.000000</td>\n",
       "      <td>5490.000000</td>\n",
       "      <td>5490.000000</td>\n",
       "      <td>5490.000000</td>\n",
       "    </tr>\n",
       "    <tr>\n",
       "      <th>mean</th>\n",
       "      <td>1.196961e+07</td>\n",
       "      <td>19.573224</td>\n",
       "      <td>3.871949</td>\n",
       "      <td>3.730783</td>\n",
       "      <td>2.988889</td>\n",
       "      <td>3.61020</td>\n",
       "      <td>2.185610</td>\n",
       "      <td>1.904189</td>\n",
       "      <td>3.360656</td>\n",
       "      <td>3.834426</td>\n",
       "      <td>3.405464</td>\n",
       "    </tr>\n",
       "    <tr>\n",
       "      <th>std</th>\n",
       "      <td>2.703159e+08</td>\n",
       "      <td>41.402738</td>\n",
       "      <td>1.128554</td>\n",
       "      <td>1.240750</td>\n",
       "      <td>1.035384</td>\n",
       "      <td>1.64292</td>\n",
       "      <td>1.410206</td>\n",
       "      <td>1.295732</td>\n",
       "      <td>1.336587</td>\n",
       "      <td>2.109349</td>\n",
       "      <td>0.956080</td>\n",
       "    </tr>\n",
       "    <tr>\n",
       "      <th>min</th>\n",
       "      <td>-3.638138e+08</td>\n",
       "      <td>0.000000</td>\n",
       "      <td>0.000000</td>\n",
       "      <td>1.000000</td>\n",
       "      <td>1.000000</td>\n",
       "      <td>1.00000</td>\n",
       "      <td>1.000000</td>\n",
       "      <td>1.000000</td>\n",
       "      <td>1.000000</td>\n",
       "      <td>0.000000</td>\n",
       "      <td>1.000000</td>\n",
       "    </tr>\n",
       "    <tr>\n",
       "      <th>25%</th>\n",
       "      <td>0.000000e+00</td>\n",
       "      <td>4.000000</td>\n",
       "      <td>3.000000</td>\n",
       "      <td>3.000000</td>\n",
       "      <td>2.000000</td>\n",
       "      <td>3.00000</td>\n",
       "      <td>1.000000</td>\n",
       "      <td>1.000000</td>\n",
       "      <td>3.000000</td>\n",
       "      <td>5.000000</td>\n",
       "      <td>3.000000</td>\n",
       "    </tr>\n",
       "    <tr>\n",
       "      <th>50%</th>\n",
       "      <td>0.000000e+00</td>\n",
       "      <td>7.000000</td>\n",
       "      <td>4.000000</td>\n",
       "      <td>4.000000</td>\n",
       "      <td>3.000000</td>\n",
       "      <td>5.00000</td>\n",
       "      <td>1.000000</td>\n",
       "      <td>1.000000</td>\n",
       "      <td>3.000000</td>\n",
       "      <td>5.000000</td>\n",
       "      <td>4.000000</td>\n",
       "    </tr>\n",
       "    <tr>\n",
       "      <th>75%</th>\n",
       "      <td>2.500000e+05</td>\n",
       "      <td>12.000000</td>\n",
       "      <td>5.000000</td>\n",
       "      <td>5.000000</td>\n",
       "      <td>4.000000</td>\n",
       "      <td>5.00000</td>\n",
       "      <td>3.000000</td>\n",
       "      <td>3.000000</td>\n",
       "      <td>5.000000</td>\n",
       "      <td>5.000000</td>\n",
       "      <td>4.000000</td>\n",
       "    </tr>\n",
       "    <tr>\n",
       "      <th>max</th>\n",
       "      <td>1.782678e+10</td>\n",
       "      <td>524.000000</td>\n",
       "      <td>5.000000</td>\n",
       "      <td>5.000000</td>\n",
       "      <td>5.000000</td>\n",
       "      <td>5.00000</td>\n",
       "      <td>5.000000</td>\n",
       "      <td>5.000000</td>\n",
       "      <td>5.000000</td>\n",
       "      <td>5.000000</td>\n",
       "      <td>5.000000</td>\n",
       "    </tr>\n",
       "  </tbody>\n",
       "</table>\n",
       "</div>"
      ],
      "text/plain": [
       "       DollarAmount        Hours  SizeOfSpend  MultiAgency  \\\n",
       "count  5.490000e+03  5490.000000  5490.000000  5490.000000   \n",
       "mean   1.196961e+07    19.573224     3.871949     3.730783   \n",
       "std    2.703159e+08    41.402738     1.128554     1.240750   \n",
       "min   -3.638138e+08     0.000000     0.000000     1.000000   \n",
       "25%    0.000000e+00     4.000000     3.000000     3.000000   \n",
       "50%    0.000000e+00     7.000000     4.000000     4.000000   \n",
       "75%    2.500000e+05    12.000000     5.000000     5.000000   \n",
       "max    1.782678e+10   524.000000     5.000000     5.000000   \n",
       "\n",
       "       BusinessProcessImpact  TechChange  PublicSafety   MarketRisk  \\\n",
       "count            5490.000000  5490.00000   5490.000000  5490.000000   \n",
       "mean                2.988889     3.61020      2.185610     1.904189   \n",
       "std                 1.035384     1.64292      1.410206     1.295732   \n",
       "min                 1.000000     1.00000      1.000000     1.000000   \n",
       "25%                 2.000000     3.00000      1.000000     1.000000   \n",
       "50%                 3.000000     5.00000      1.000000     1.000000   \n",
       "75%                 4.000000     5.00000      3.000000     3.000000   \n",
       "max                 5.000000     5.00000      5.000000     5.000000   \n",
       "\n",
       "       Sensitivity  Leveragability    LevelCalc  \n",
       "count  5490.000000     5490.000000  5490.000000  \n",
       "mean      3.360656        3.834426     3.405464  \n",
       "std       1.336587        2.109349     0.956080  \n",
       "min       1.000000        0.000000     1.000000  \n",
       "25%       3.000000        5.000000     3.000000  \n",
       "50%       3.000000        5.000000     4.000000  \n",
       "75%       5.000000        5.000000     4.000000  \n",
       "max       5.000000        5.000000     5.000000  "
      ]
     },
     "execution_count": 6,
     "metadata": {},
     "output_type": "execute_result"
    }
   ],
   "source": [
    "for col in num_cols:\n",
    "    df[col]=pd.to_numeric(df[col],errors='coerce')\n",
    "    median_=df[col].median()\n",
    "    df[col]=df[col].fillna(median_)\n",
    "\n",
    "noinfo_cols+=[]\n",
    "df[num_cols].describe()"
   ]
  },
  {
   "cell_type": "code",
   "execution_count": 7,
   "id": "d5cdb919",
   "metadata": {},
   "outputs": [
    {
     "name": "stdout",
     "output_type": "stream",
     "text": [
      "----------------------------------------\n",
      "                ID\n",
      "ProjectColor      \n",
      "Green         5468\n",
      "other           22\n",
      "----------------------------------------\n",
      "               ID\n",
      "ProjectType      \n",
      "CN           4602\n",
      "RFP           558\n",
      "other         330\n",
      "----------------------------------------\n",
      "             ID\n",
      "CreatedBy      \n",
      "BronzJ     1113\n",
      "EdgettC     980\n",
      "Gibrilm     319\n",
      "baldwins    661\n",
      "calahanh    385\n",
      "lugibihlc   304\n",
      "other      1105\n",
      "riggs       623\n",
      "----------------------------------------\n",
      "                    ID\n",
      "WorkPerformedFor      \n",
      "0                  608\n",
      "1                  384\n",
      "171                744\n",
      "271                305\n",
      "472                367\n",
      "491                826\n",
      "551                300\n",
      "591                331\n",
      "other             1625\n",
      "----------------------------------------\n",
      "             ID\n",
      "BuyerName      \n",
      "JAB         382\n",
      "MW          337\n",
      "SW2         346\n",
      "VAH         306\n",
      "other      4119\n",
      "----------------------------------------\n",
      "              ID\n",
      "Division_x      \n",
      "COMM        1424\n",
      "IT          2445\n",
      "PROF        1617\n",
      "other          4\n",
      "----------------------------------------\n",
      "                    ID\n",
      "SourcingCategory      \n",
      "other             5490\n",
      "----------------------------------------\n",
      "                ID\n",
      "CategoryID_x      \n",
      "other         5490\n",
      "----------------------------------------\n",
      "             ID\n",
      "FedReview      \n",
      "False      5446\n",
      "other        44\n",
      "----------------------------------------\n",
      "               ID\n",
      "ITComponent      \n",
      "False        5306\n",
      "other         184\n",
      "----------------------------------------\n",
      "                           ID\n",
      "Grouping                     \n",
      "Health                    319\n",
      "IT Systems and Software  1908\n",
      "other                    3263\n",
      "----------------------------------------\n",
      "                     ID\n",
      "CommodityCategory      \n",
      "other              5490\n",
      "----------------------------------------\n",
      "                 ID\n",
      "BuyerInitials      \n",
      "JAB             982\n",
      "JW3             388\n",
      "MDB             328\n",
      "SB4             332\n",
      "other          3460\n",
      "----------------------------------------\n",
      "              ID\n",
      "Division_y      \n",
      "COMM        1257\n",
      "IT          2434\n",
      "PROF        1703\n",
      "other         96\n",
      "----------------------------------------\n",
      "                ID\n",
      "CategoryID_y      \n",
      "other         5490\n"
     ]
    }
   ],
   "source": [
    "#make sure every subgroup has more than 300 samples\n",
    "#put subgroup which less than 200 samples into an uniform subgroup called 'other'\n",
    "for col in cat_cols:\n",
    "    tmp=df.groupby([col]).agg({'ID':'count'})\n",
    "    keep_group=list(tmp[tmp['ID']>=300].index)\n",
    "    df.loc[~df[col].isin(keep_group),col]='other'\n",
    "    \n",
    "for col in cat_cols:\n",
    "    tmp=df.groupby([col]).agg({'ID':'count'})\n",
    "    print('----------------------------------------')\n",
    "    print(tmp)\n",
    "    \n",
    "noinfo_cols+=['ProjectColor','SourcingCategory','CategoryID_x','FedReview','ITComponent',\n",
    "              'CommodityCategory','CategoryID_y']"
   ]
  },
  {
   "cell_type": "code",
   "execution_count": 8,
   "id": "d2f89ea3",
   "metadata": {},
   "outputs": [
    {
     "name": "stdout",
     "output_type": "stream",
     "text": [
      "ProjectDescription 5490 4843\n",
      "ID 5490 5490\n"
     ]
    }
   ],
   "source": [
    "for col in text_cols+['ID']:\n",
    "    print(col,len(df),len(set(df[col])))\n",
    "    \n",
    "noinfo_cols+=[]"
   ]
  },
  {
   "cell_type": "code",
   "execution_count": 9,
   "id": "de5da6c4",
   "metadata": {},
   "outputs": [
    {
     "name": "stdout",
     "output_type": "stream",
     "text": [
      "--------------------\n",
      "              ID\n",
      "CreateDate      \n",
      "2017         380\n",
      "2018        1001\n",
      "2019        1379\n",
      "2020        1160\n",
      "2021        1093\n",
      "2022         477\n"
     ]
    }
   ],
   "source": [
    "for col in time_cols:\n",
    "    df[col]=pd.to_datetime(df[col])\n",
    "    df[col]=pd.to_datetime(df[col]).dt.year\n",
    "    print('--------------------')\n",
    "    print(df.groupby([col]).agg({'ID':'count'}))\n",
    "    \n",
    "noinfo_cols+=[]    "
   ]
  },
  {
   "cell_type": "code",
   "execution_count": 10,
   "id": "43d5f718",
   "metadata": {},
   "outputs": [
    {
     "name": "stdout",
     "output_type": "stream",
     "text": [
      "['ProjectColor', 'SourcingCategory', 'CategoryID_x', 'FedReview', 'ITComponent', 'CommodityCategory', 'CategoryID_y']\n"
     ]
    },
    {
     "data": {
      "text/plain": [
       "(5490, 22)"
      ]
     },
     "execution_count": 10,
     "metadata": {},
     "output_type": "execute_result"
    }
   ],
   "source": [
    "print(noinfo_cols)\n",
    "\n",
    "df=df.drop(noinfo_cols, axis=1)\n",
    "df.shape"
   ]
  },
  {
   "cell_type": "code",
   "execution_count": 11,
   "id": "11d783f3",
   "metadata": {},
   "outputs": [],
   "source": [
    "# refresh cols set\n",
    "num_cols=list(set(num_cols)-set(noinfo_cols))\n",
    "cat_cols=list(set(cat_cols)-set(noinfo_cols))\n",
    "text_cols=list(set(text_cols)-set(noinfo_cols))\n",
    "time_cols=list(set(time_cols)-set(noinfo_cols))\n",
    "\n",
    "# prepare a copy for visualization\n",
    "df_ori=df.copy(deep=True)"
   ]
  },
  {
   "cell_type": "markdown",
   "id": "9b4ce16f",
   "metadata": {},
   "source": [
    "## 3.rescale feature before calculate distance"
   ]
  },
  {
   "cell_type": "code",
   "execution_count": 12,
   "id": "3cdadfb3",
   "metadata": {},
   "outputs": [],
   "source": [
    "distance_scale=2. #increase numeric variables influnece "
   ]
  },
  {
   "cell_type": "markdown",
   "id": "f580447b",
   "metadata": {},
   "source": [
    "### 3.1 num_cols"
   ]
  },
  {
   "cell_type": "code",
   "execution_count": 13,
   "id": "f2fbd429",
   "metadata": {},
   "outputs": [],
   "source": [
    "#get rid of outliers\n",
    "for col in num_cols:\n",
    "    df.loc[df[col]<0.,col]=0.\n",
    "    \n",
    "#rescale with min max scaler\n",
    "for col in num_cols:\n",
    "    min_,max_=df[col].min(),df[col].max()\n",
    "    df[col]=1.*(df[col]-min_)/(max_-min_)*distance_scale"
   ]
  },
  {
   "cell_type": "markdown",
   "id": "9d35cb4d",
   "metadata": {},
   "source": [
    "### 3.2 cat_cols"
   ]
  },
  {
   "cell_type": "code",
   "execution_count": 14,
   "id": "49b09cf5",
   "metadata": {},
   "outputs": [],
   "source": [
    "df=pd.get_dummies(df, columns=cat_cols, drop_first=False)"
   ]
  },
  {
   "cell_type": "markdown",
   "id": "9fd1feff",
   "metadata": {},
   "source": [
    "### 3.3 text_cols\n",
    " - I will not train words embedding by myself, because words in data is not enough.\n",
    " - use words embedding someone already trained (from SIADS655)"
   ]
  },
  {
   "cell_type": "code",
   "execution_count": 15,
   "id": "bc2fbe75",
   "metadata": {},
   "outputs": [
    {
     "name": "stdout",
     "output_type": "stream",
     "text": [
      "(5490, 100)\n",
      "before embedding------------------\n",
      "To provide wraparound supportive services to Community Ventures participants to help them retain employment.\n",
      "after embedding-------------------\n",
      "[-0.52500601  0.30484374  0.76936686  0.95668184  0.21647746 -1.12245515\n",
      " -0.50259369 -0.53892001  0.2184915  -0.72775998  0.06771853  0.87096392\n",
      "  0.62490055 -0.16517323  0.75647711 -0.31621222  0.80659733 -0.72784231\n",
      "  0.41201686  0.71917324  0.90282355  1.574238    0.16597628 -0.18391954\n",
      " -0.43772603 -0.03624979  1.03522874 -0.88201289 -0.42403963  0.8301139\n",
      " -0.18266563 -0.69117678  0.60014257  1.22355923  1.30785287 -0.60377873\n",
      " -0.61435818  0.89802327  0.40134272 -0.65571558  0.3645964   0.31990003\n",
      " -0.03831931 -0.44028306  0.55810929 -0.10798167  0.91744614 -0.55794647\n",
      "  0.50071423 -0.31195115  0.58662777 -0.38006394 -0.45111894  0.86059723\n",
      "  0.87779711  0.74921814  0.45428906  0.01503823 -0.47753327  0.39746064\n",
      " -0.48343802  0.17423846 -0.67149012 -0.46280052  0.764216    0.52253669\n",
      "  0.19243541  0.14933042 -0.63050218 -0.23675354 -0.14291228 -1.19194807\n",
      " -0.40724073  0.05791718 -0.40489783 -0.06758381  0.19148375  0.56305882\n",
      " -0.25475393 -0.24252885  0.28260455 -0.17212963  0.0942534  -0.22395365\n",
      "  0.64796152 -0.61395104 -0.15854412 -0.47705463  0.3968692   0.17427692\n",
      " -0.64206977 -0.98805304  0.57254527 -1.03237431 -0.99553504 -0.01542274\n",
      " -0.71547096  0.24768738 -0.41788823  0.37882086]\n"
     ]
    }
   ],
   "source": [
    "# step1.word2vector\n",
    "\n",
    "## tokenize\n",
    "tokenized_des=[]\n",
    "for des in df[text_cols[0]]:\n",
    "    try:\n",
    "        tokenized_des.append(nltk.tokenize.word_tokenize(des))\n",
    "    except:\n",
    "        tokenized_des.append(['empty'])\n",
    "    \n",
    "## word to vectors\n",
    "word_vectors=gensim.models.KeyedVectors.load('Data/wikipedia.100.word-vecs.kv')\n",
    "### calculate vectors mean for each description\n",
    "def generate_dense_features(tokenized_des, word_vectors): \n",
    "    res=[]\n",
    "    for doc in tokenized_des:\n",
    "        tmp_sum=np.zeros(shape=(100,))\n",
    "        tmp_count=0.\n",
    "        for word in doc:\n",
    "            try:\n",
    "                tmp_sum+=word_vectors[word]\n",
    "                tmp_count+=1\n",
    "            except:\n",
    "                pass\n",
    "        if tmp_count==0:\n",
    "            tmp_count=1.\n",
    "        doc_vector=tmp_sum/tmp_count\n",
    "        res.append(doc_vector)\n",
    "    return np.array(res)\n",
    "emb_des=generate_dense_features(tokenized_des, word_vectors)\n",
    "\n",
    "print(emb_des.shape)\n",
    "print('before embedding------------------')\n",
    "print(df[text_cols[0]][0])\n",
    "print('after embedding-------------------')\n",
    "print(emb_des[0])"
   ]
  },
  {
   "cell_type": "code",
   "execution_count": 16,
   "id": "136864a8",
   "metadata": {},
   "outputs": [
    {
     "name": "stdout",
     "output_type": "stream",
     "text": [
      "before PCA, embedding dim=  (5490, 100)\n",
      "after PCA, embedding dim=  (5490, 3)\n"
     ]
    }
   ],
   "source": [
    "# step2 dimension reduction\n",
    "# (description influence distance too much, it has 100 dim=.=)\n",
    "\n",
    "pca_model=PCA(n_components=3)\n",
    "emb_des_lowdim=pca_model.fit_transform(emb_des)\n",
    "\n",
    "print ('before PCA, embedding dim= ',emb_des.shape)\n",
    "print ('after PCA, embedding dim= ',emb_des_lowdim.shape)"
   ]
  },
  {
   "cell_type": "code",
   "execution_count": 17,
   "id": "e0ace437",
   "metadata": {},
   "outputs": [],
   "source": [
    "## step3 join to the original dataframe\n",
    "df_des=pd.DataFrame(emb_des_lowdim,columns=['Des_pc1','Des_pc2','Des_pc3'])\n",
    "\n",
    "df=pd.concat([df,df_des],axis=1)\n",
    "df=df.drop(['ProjectDescription'],axis=1)"
   ]
  },
  {
   "cell_type": "markdown",
   "id": "64316361",
   "metadata": {},
   "source": [
    "### 3.4 time_cols"
   ]
  },
  {
   "cell_type": "code",
   "execution_count": 18,
   "id": "eb1e3971",
   "metadata": {},
   "outputs": [],
   "source": [
    "col='CreateDate'\n",
    "min_,max_=df[col].min(),df[col].max()\n",
    "df[col]=1.*(df[col]-min_)/(max_-min_)*distance_scale"
   ]
  },
  {
   "cell_type": "code",
   "execution_count": 19,
   "id": "09cedfac",
   "metadata": {},
   "outputs": [
    {
     "data": {
      "text/html": [
       "<div>\n",
       "<style scoped>\n",
       "    .dataframe tbody tr th:only-of-type {\n",
       "        vertical-align: middle;\n",
       "    }\n",
       "\n",
       "    .dataframe tbody tr th {\n",
       "        vertical-align: top;\n",
       "    }\n",
       "\n",
       "    .dataframe thead th {\n",
       "        text-align: right;\n",
       "    }\n",
       "</style>\n",
       "<table border=\"1\" class=\"dataframe\">\n",
       "  <thead>\n",
       "    <tr style=\"text-align: right;\">\n",
       "      <th></th>\n",
       "      <th>ID</th>\n",
       "      <th>CreateDate</th>\n",
       "      <th>DollarAmount</th>\n",
       "      <th>Hours</th>\n",
       "      <th>SizeOfSpend</th>\n",
       "      <th>MultiAgency</th>\n",
       "      <th>BusinessProcessImpact</th>\n",
       "      <th>TechChange</th>\n",
       "      <th>PublicSafety</th>\n",
       "      <th>MarketRisk</th>\n",
       "      <th>...</th>\n",
       "      <th>CreatedBy_EdgettC</th>\n",
       "      <th>CreatedBy_Gibrilm</th>\n",
       "      <th>CreatedBy_baldwins</th>\n",
       "      <th>CreatedBy_calahanh</th>\n",
       "      <th>CreatedBy_lugibihlc</th>\n",
       "      <th>CreatedBy_other</th>\n",
       "      <th>CreatedBy_riggs</th>\n",
       "      <th>Des_pc1</th>\n",
       "      <th>Des_pc2</th>\n",
       "      <th>Des_pc3</th>\n",
       "    </tr>\n",
       "  </thead>\n",
       "  <tbody>\n",
       "    <tr>\n",
       "      <th>0</th>\n",
       "      <td>3338</td>\n",
       "      <td>0.0</td>\n",
       "      <td>0.001150</td>\n",
       "      <td>0.458015</td>\n",
       "      <td>0.4</td>\n",
       "      <td>0.0</td>\n",
       "      <td>0.0</td>\n",
       "      <td>0.0</td>\n",
       "      <td>0.0</td>\n",
       "      <td>0.0</td>\n",
       "      <td>...</td>\n",
       "      <td>0</td>\n",
       "      <td>0</td>\n",
       "      <td>0</td>\n",
       "      <td>0</td>\n",
       "      <td>0</td>\n",
       "      <td>1</td>\n",
       "      <td>0</td>\n",
       "      <td>-0.682178</td>\n",
       "      <td>-2.604936</td>\n",
       "      <td>0.280872</td>\n",
       "    </tr>\n",
       "    <tr>\n",
       "      <th>1</th>\n",
       "      <td>3687</td>\n",
       "      <td>0.0</td>\n",
       "      <td>0.000000</td>\n",
       "      <td>0.026718</td>\n",
       "      <td>0.4</td>\n",
       "      <td>0.0</td>\n",
       "      <td>0.0</td>\n",
       "      <td>0.0</td>\n",
       "      <td>0.0</td>\n",
       "      <td>0.0</td>\n",
       "      <td>...</td>\n",
       "      <td>0</td>\n",
       "      <td>1</td>\n",
       "      <td>0</td>\n",
       "      <td>0</td>\n",
       "      <td>0</td>\n",
       "      <td>0</td>\n",
       "      <td>0</td>\n",
       "      <td>1.632530</td>\n",
       "      <td>-0.873784</td>\n",
       "      <td>-2.199324</td>\n",
       "    </tr>\n",
       "    <tr>\n",
       "      <th>2</th>\n",
       "      <td>3970</td>\n",
       "      <td>0.0</td>\n",
       "      <td>0.000000</td>\n",
       "      <td>0.038168</td>\n",
       "      <td>0.4</td>\n",
       "      <td>0.0</td>\n",
       "      <td>0.0</td>\n",
       "      <td>0.0</td>\n",
       "      <td>0.0</td>\n",
       "      <td>0.0</td>\n",
       "      <td>...</td>\n",
       "      <td>0</td>\n",
       "      <td>0</td>\n",
       "      <td>0</td>\n",
       "      <td>0</td>\n",
       "      <td>0</td>\n",
       "      <td>1</td>\n",
       "      <td>0</td>\n",
       "      <td>-1.731576</td>\n",
       "      <td>-1.321456</td>\n",
       "      <td>-0.402185</td>\n",
       "    </tr>\n",
       "    <tr>\n",
       "      <th>3</th>\n",
       "      <td>5015</td>\n",
       "      <td>0.0</td>\n",
       "      <td>0.000000</td>\n",
       "      <td>0.026718</td>\n",
       "      <td>0.4</td>\n",
       "      <td>0.0</td>\n",
       "      <td>0.0</td>\n",
       "      <td>0.0</td>\n",
       "      <td>0.0</td>\n",
       "      <td>0.0</td>\n",
       "      <td>...</td>\n",
       "      <td>0</td>\n",
       "      <td>0</td>\n",
       "      <td>0</td>\n",
       "      <td>0</td>\n",
       "      <td>0</td>\n",
       "      <td>1</td>\n",
       "      <td>0</td>\n",
       "      <td>-0.236173</td>\n",
       "      <td>-3.220736</td>\n",
       "      <td>-0.367675</td>\n",
       "    </tr>\n",
       "    <tr>\n",
       "      <th>4</th>\n",
       "      <td>5671</td>\n",
       "      <td>0.0</td>\n",
       "      <td>0.001683</td>\n",
       "      <td>0.458015</td>\n",
       "      <td>0.4</td>\n",
       "      <td>0.0</td>\n",
       "      <td>0.0</td>\n",
       "      <td>0.0</td>\n",
       "      <td>0.0</td>\n",
       "      <td>0.0</td>\n",
       "      <td>...</td>\n",
       "      <td>0</td>\n",
       "      <td>0</td>\n",
       "      <td>0</td>\n",
       "      <td>0</td>\n",
       "      <td>0</td>\n",
       "      <td>1</td>\n",
       "      <td>0</td>\n",
       "      <td>-0.958339</td>\n",
       "      <td>-0.334709</td>\n",
       "      <td>0.208234</td>\n",
       "    </tr>\n",
       "    <tr>\n",
       "      <th>...</th>\n",
       "      <td>...</td>\n",
       "      <td>...</td>\n",
       "      <td>...</td>\n",
       "      <td>...</td>\n",
       "      <td>...</td>\n",
       "      <td>...</td>\n",
       "      <td>...</td>\n",
       "      <td>...</td>\n",
       "      <td>...</td>\n",
       "      <td>...</td>\n",
       "      <td>...</td>\n",
       "      <td>...</td>\n",
       "      <td>...</td>\n",
       "      <td>...</td>\n",
       "      <td>...</td>\n",
       "      <td>...</td>\n",
       "      <td>...</td>\n",
       "      <td>...</td>\n",
       "      <td>...</td>\n",
       "      <td>...</td>\n",
       "      <td>...</td>\n",
       "    </tr>\n",
       "    <tr>\n",
       "      <th>5485</th>\n",
       "      <td>12799</td>\n",
       "      <td>2.0</td>\n",
       "      <td>0.000000</td>\n",
       "      <td>0.026718</td>\n",
       "      <td>0.4</td>\n",
       "      <td>0.5</td>\n",
       "      <td>0.5</td>\n",
       "      <td>0.0</td>\n",
       "      <td>1.0</td>\n",
       "      <td>0.0</td>\n",
       "      <td>...</td>\n",
       "      <td>0</td>\n",
       "      <td>0</td>\n",
       "      <td>0</td>\n",
       "      <td>0</td>\n",
       "      <td>0</td>\n",
       "      <td>1</td>\n",
       "      <td>0</td>\n",
       "      <td>-0.210297</td>\n",
       "      <td>3.346455</td>\n",
       "      <td>0.185839</td>\n",
       "    </tr>\n",
       "    <tr>\n",
       "      <th>5486</th>\n",
       "      <td>12860</td>\n",
       "      <td>2.0</td>\n",
       "      <td>0.000000</td>\n",
       "      <td>0.026718</td>\n",
       "      <td>0.4</td>\n",
       "      <td>0.5</td>\n",
       "      <td>0.5</td>\n",
       "      <td>0.0</td>\n",
       "      <td>1.0</td>\n",
       "      <td>0.0</td>\n",
       "      <td>...</td>\n",
       "      <td>0</td>\n",
       "      <td>0</td>\n",
       "      <td>0</td>\n",
       "      <td>0</td>\n",
       "      <td>0</td>\n",
       "      <td>0</td>\n",
       "      <td>1</td>\n",
       "      <td>-1.326028</td>\n",
       "      <td>0.198821</td>\n",
       "      <td>-0.205759</td>\n",
       "    </tr>\n",
       "    <tr>\n",
       "      <th>5487</th>\n",
       "      <td>12928</td>\n",
       "      <td>2.0</td>\n",
       "      <td>0.000000</td>\n",
       "      <td>0.026718</td>\n",
       "      <td>0.4</td>\n",
       "      <td>0.5</td>\n",
       "      <td>0.5</td>\n",
       "      <td>0.0</td>\n",
       "      <td>1.0</td>\n",
       "      <td>0.0</td>\n",
       "      <td>...</td>\n",
       "      <td>0</td>\n",
       "      <td>0</td>\n",
       "      <td>0</td>\n",
       "      <td>0</td>\n",
       "      <td>0</td>\n",
       "      <td>0</td>\n",
       "      <td>1</td>\n",
       "      <td>-1.240704</td>\n",
       "      <td>0.128109</td>\n",
       "      <td>-1.444911</td>\n",
       "    </tr>\n",
       "    <tr>\n",
       "      <th>5488</th>\n",
       "      <td>12828</td>\n",
       "      <td>2.0</td>\n",
       "      <td>0.000000</td>\n",
       "      <td>0.026718</td>\n",
       "      <td>1.2</td>\n",
       "      <td>2.0</td>\n",
       "      <td>0.0</td>\n",
       "      <td>0.0</td>\n",
       "      <td>0.0</td>\n",
       "      <td>0.0</td>\n",
       "      <td>...</td>\n",
       "      <td>0</td>\n",
       "      <td>0</td>\n",
       "      <td>0</td>\n",
       "      <td>0</td>\n",
       "      <td>0</td>\n",
       "      <td>1</td>\n",
       "      <td>0</td>\n",
       "      <td>-0.721905</td>\n",
       "      <td>2.379903</td>\n",
       "      <td>-0.405977</td>\n",
       "    </tr>\n",
       "    <tr>\n",
       "      <th>5489</th>\n",
       "      <td>12829</td>\n",
       "      <td>2.0</td>\n",
       "      <td>0.000000</td>\n",
       "      <td>0.026718</td>\n",
       "      <td>1.2</td>\n",
       "      <td>2.0</td>\n",
       "      <td>0.0</td>\n",
       "      <td>0.0</td>\n",
       "      <td>0.0</td>\n",
       "      <td>0.0</td>\n",
       "      <td>...</td>\n",
       "      <td>0</td>\n",
       "      <td>0</td>\n",
       "      <td>0</td>\n",
       "      <td>0</td>\n",
       "      <td>0</td>\n",
       "      <td>1</td>\n",
       "      <td>0</td>\n",
       "      <td>-0.721905</td>\n",
       "      <td>2.379903</td>\n",
       "      <td>-0.405977</td>\n",
       "    </tr>\n",
       "  </tbody>\n",
       "</table>\n",
       "<p>5490 rows × 57 columns</p>\n",
       "</div>"
      ],
      "text/plain": [
       "         ID  CreateDate  DollarAmount     Hours  SizeOfSpend  MultiAgency  \\\n",
       "0      3338         0.0      0.001150  0.458015          0.4          0.0   \n",
       "1      3687         0.0      0.000000  0.026718          0.4          0.0   \n",
       "2      3970         0.0      0.000000  0.038168          0.4          0.0   \n",
       "3      5015         0.0      0.000000  0.026718          0.4          0.0   \n",
       "4      5671         0.0      0.001683  0.458015          0.4          0.0   \n",
       "...     ...         ...           ...       ...          ...          ...   \n",
       "5485  12799         2.0      0.000000  0.026718          0.4          0.5   \n",
       "5486  12860         2.0      0.000000  0.026718          0.4          0.5   \n",
       "5487  12928         2.0      0.000000  0.026718          0.4          0.5   \n",
       "5488  12828         2.0      0.000000  0.026718          1.2          2.0   \n",
       "5489  12829         2.0      0.000000  0.026718          1.2          2.0   \n",
       "\n",
       "      BusinessProcessImpact  TechChange  PublicSafety  MarketRisk  ...  \\\n",
       "0                       0.0         0.0           0.0         0.0  ...   \n",
       "1                       0.0         0.0           0.0         0.0  ...   \n",
       "2                       0.0         0.0           0.0         0.0  ...   \n",
       "3                       0.0         0.0           0.0         0.0  ...   \n",
       "4                       0.0         0.0           0.0         0.0  ...   \n",
       "...                     ...         ...           ...         ...  ...   \n",
       "5485                    0.5         0.0           1.0         0.0  ...   \n",
       "5486                    0.5         0.0           1.0         0.0  ...   \n",
       "5487                    0.5         0.0           1.0         0.0  ...   \n",
       "5488                    0.0         0.0           0.0         0.0  ...   \n",
       "5489                    0.0         0.0           0.0         0.0  ...   \n",
       "\n",
       "      CreatedBy_EdgettC  CreatedBy_Gibrilm  CreatedBy_baldwins  \\\n",
       "0                     0                  0                   0   \n",
       "1                     0                  1                   0   \n",
       "2                     0                  0                   0   \n",
       "3                     0                  0                   0   \n",
       "4                     0                  0                   0   \n",
       "...                 ...                ...                 ...   \n",
       "5485                  0                  0                   0   \n",
       "5486                  0                  0                   0   \n",
       "5487                  0                  0                   0   \n",
       "5488                  0                  0                   0   \n",
       "5489                  0                  0                   0   \n",
       "\n",
       "      CreatedBy_calahanh  CreatedBy_lugibihlc  CreatedBy_other  \\\n",
       "0                      0                    0                1   \n",
       "1                      0                    0                0   \n",
       "2                      0                    0                1   \n",
       "3                      0                    0                1   \n",
       "4                      0                    0                1   \n",
       "...                  ...                  ...              ...   \n",
       "5485                   0                    0                1   \n",
       "5486                   0                    0                0   \n",
       "5487                   0                    0                0   \n",
       "5488                   0                    0                1   \n",
       "5489                   0                    0                1   \n",
       "\n",
       "      CreatedBy_riggs   Des_pc1   Des_pc2   Des_pc3  \n",
       "0                   0 -0.682178 -2.604936  0.280872  \n",
       "1                   0  1.632530 -0.873784 -2.199324  \n",
       "2                   0 -1.731576 -1.321456 -0.402185  \n",
       "3                   0 -0.236173 -3.220736 -0.367675  \n",
       "4                   0 -0.958339 -0.334709  0.208234  \n",
       "...               ...       ...       ...       ...  \n",
       "5485                0 -0.210297  3.346455  0.185839  \n",
       "5486                1 -1.326028  0.198821 -0.205759  \n",
       "5487                1 -1.240704  0.128109 -1.444911  \n",
       "5488                0 -0.721905  2.379903 -0.405977  \n",
       "5489                0 -0.721905  2.379903 -0.405977  \n",
       "\n",
       "[5490 rows x 57 columns]"
      ]
     },
     "execution_count": 19,
     "metadata": {},
     "output_type": "execute_result"
    }
   ],
   "source": [
    "df"
   ]
  },
  {
   "cell_type": "markdown",
   "id": "3367b987",
   "metadata": {},
   "source": [
    "## 4.cluster"
   ]
  },
  {
   "cell_type": "code",
   "execution_count": 20,
   "id": "fac5dd13",
   "metadata": {},
   "outputs": [],
   "source": [
    "#ref\n",
    "#https://scikit-learn.org/stable/modules/clustering.html"
   ]
  },
  {
   "cell_type": "code",
   "execution_count": 21,
   "id": "8ff6e697",
   "metadata": {},
   "outputs": [],
   "source": [
    "# some utils\n",
    "\n",
    "def draw_elbow_rule_(tmp):\n",
    "    tmp=pd.DataFrame(tmp,columns=['k','score'])\n",
    "    \n",
    "    sns.set_style(\"ticks\")\n",
    "    sns.relplot(x='k', y='score', hue=\"k\", \n",
    "                alpha=.7, data=tmp)\n",
    "    "
   ]
  },
  {
   "cell_type": "markdown",
   "id": "b097e348",
   "metadata": {},
   "source": [
    "### 4.1reduce dimention (for speed up and visualization)"
   ]
  },
  {
   "cell_type": "code",
   "execution_count": 22,
   "id": "34b75287",
   "metadata": {},
   "outputs": [
    {
     "name": "stdout",
     "output_type": "stream",
     "text": [
      "[0.27034621 0.1986542  0.10514506]\n",
      "first 3 principal components explained 60% variance in the original data, good enough.\n"
     ]
    }
   ],
   "source": [
    "X=np.array(df.drop(['ID'],axis=1))\n",
    "\n",
    "pca_model=PCA(n_components=3)\n",
    "X=pca_model.fit_transform(X)\n",
    "print(pca_model.explained_variance_ratio_)\n",
    "print('first 3 principal components explained 60% variance in the original data, good enough.')\n",
    "\n",
    "\n",
    "df_pca=pd.concat([df[['ID']],\n",
    "                  pd.DataFrame(X,columns=['pc1','pc2','pc3'])],axis=1)"
   ]
  },
  {
   "cell_type": "markdown",
   "id": "ee03e033",
   "metadata": {},
   "source": [
    "### 4.2 kmeans [hard-cluster]"
   ]
  },
  {
   "cell_type": "code",
   "execution_count": 23,
   "id": "44c01acc",
   "metadata": {},
   "outputs": [
    {
     "data": {
      "image/png": "[encoded data removed]",
      "text/plain": [
       "<Figure size 407.25x360 with 1 Axes>"
      ]
     },
     "metadata": {},
     "output_type": "display_data"
    }
   ],
   "source": [
    "# find best K use elbow rule\n",
    "tmp=[]\n",
    "for k in range(1,21,1):\n",
    "    m=KMeans(n_clusters=k, random_state=0).fit(X)\n",
    "    s=m.score(X)\n",
    "    tmp.append([k,-s])   \n",
    "draw_elbow_rule_(tmp)\n",
    "\n",
    "\n",
    "df_pca['kmeans_group']=KMeans(n_clusters=7, random_state=0).fit_predict(X)"
   ]
  },
  {
   "cell_type": "markdown",
   "id": "4ef39565",
   "metadata": {},
   "source": [
    "### 4.3GaussianMixture [soft-cluster]"
   ]
  },
  {
   "cell_type": "code",
   "execution_count": 24,
   "id": "0a23c815",
   "metadata": {},
   "outputs": [
    {
     "data": {
      "image/png": "[encoded data removed]",
      "text/plain": [
       "<Figure size 407.25x360 with 1 Axes>"
      ]
     },
     "metadata": {},
     "output_type": "display_data"
    }
   ],
   "source": [
    "# find best K use elbow rule\n",
    "tmp=[]\n",
    "for k in range(1,21,1):\n",
    "    m=GaussianMixture(n_components=k, random_state=0).fit(X)\n",
    "    s=m.score(X)\n",
    "    tmp.append([k,np.exp(-s)]) #original score under log scale, transform it to find 'elbow'\n",
    "draw_elbow_rule_(tmp)   \n",
    "\n",
    "df_pca['GM_group']=GaussianMixture(n_components=7, random_state=0).fit_predict(X)"
   ]
  },
  {
   "cell_type": "markdown",
   "id": "b8909261",
   "metadata": {},
   "source": [
    "### 4.4other method \n",
    " - those method is hard to evaluate by itself\n",
    " - maybe those information is useful in supervised-learning"
   ]
  },
  {
   "cell_type": "code",
   "execution_count": 25,
   "id": "abbf5c00",
   "metadata": {},
   "outputs": [],
   "source": [
    "from sklearn.cluster import AgglomerativeClustering\n",
    "from sklearn.cluster import DBSCAN\n",
    "\n",
    "# arbitrary hyper parameters\n",
    "df_pca['Agg_group']=AgglomerativeClustering(n_clusters=5).fit_predict(X)\n",
    "df_pca['DB_group']=DBSCAN(min_samples=10).fit_predict(X)"
   ]
  },
  {
   "cell_type": "code",
   "execution_count": 26,
   "id": "fc487d1d",
   "metadata": {},
   "outputs": [
    {
     "data": {
      "text/html": [
       "<div>\n",
       "<style scoped>\n",
       "    .dataframe tbody tr th:only-of-type {\n",
       "        vertical-align: middle;\n",
       "    }\n",
       "\n",
       "    .dataframe tbody tr th {\n",
       "        vertical-align: top;\n",
       "    }\n",
       "\n",
       "    .dataframe thead th {\n",
       "        text-align: right;\n",
       "    }\n",
       "</style>\n",
       "<table border=\"1\" class=\"dataframe\">\n",
       "  <thead>\n",
       "    <tr style=\"text-align: right;\">\n",
       "      <th></th>\n",
       "      <th>ID</th>\n",
       "      <th>pc1</th>\n",
       "      <th>pc2</th>\n",
       "      <th>pc3</th>\n",
       "      <th>kmeans_group</th>\n",
       "      <th>GM_group</th>\n",
       "      <th>Agg_group</th>\n",
       "      <th>DB_group</th>\n",
       "    </tr>\n",
       "  </thead>\n",
       "  <tbody>\n",
       "    <tr>\n",
       "      <th>0</th>\n",
       "      <td>3338</td>\n",
       "      <td>-0.583618</td>\n",
       "      <td>-2.751724</td>\n",
       "      <td>0.194400</td>\n",
       "      <td>5</td>\n",
       "      <td>2</td>\n",
       "      <td>2</td>\n",
       "      <td>0</td>\n",
       "    </tr>\n",
       "    <tr>\n",
       "      <th>1</th>\n",
       "      <td>3687</td>\n",
       "      <td>1.736902</td>\n",
       "      <td>-1.054492</td>\n",
       "      <td>-2.333478</td>\n",
       "      <td>4</td>\n",
       "      <td>1</td>\n",
       "      <td>1</td>\n",
       "      <td>-1</td>\n",
       "    </tr>\n",
       "    <tr>\n",
       "      <th>2</th>\n",
       "      <td>3970</td>\n",
       "      <td>-1.600777</td>\n",
       "      <td>-1.508156</td>\n",
       "      <td>-0.589191</td>\n",
       "      <td>5</td>\n",
       "      <td>0</td>\n",
       "      <td>2</td>\n",
       "      <td>0</td>\n",
       "    </tr>\n",
       "    <tr>\n",
       "      <th>3</th>\n",
       "      <td>5015</td>\n",
       "      <td>-0.105833</td>\n",
       "      <td>-3.387938</td>\n",
       "      <td>-0.507708</td>\n",
       "      <td>5</td>\n",
       "      <td>0</td>\n",
       "      <td>2</td>\n",
       "      <td>0</td>\n",
       "    </tr>\n",
       "    <tr>\n",
       "      <th>4</th>\n",
       "      <td>5671</td>\n",
       "      <td>-0.851664</td>\n",
       "      <td>-0.478790</td>\n",
       "      <td>0.074819</td>\n",
       "      <td>3</td>\n",
       "      <td>2</td>\n",
       "      <td>4</td>\n",
       "      <td>0</td>\n",
       "    </tr>\n",
       "    <tr>\n",
       "      <th>...</th>\n",
       "      <td>...</td>\n",
       "      <td>...</td>\n",
       "      <td>...</td>\n",
       "      <td>...</td>\n",
       "      <td>...</td>\n",
       "      <td>...</td>\n",
       "      <td>...</td>\n",
       "      <td>...</td>\n",
       "    </tr>\n",
       "    <tr>\n",
       "      <th>5485</th>\n",
       "      <td>12799</td>\n",
       "      <td>-0.079029</td>\n",
       "      <td>3.299932</td>\n",
       "      <td>-0.267819</td>\n",
       "      <td>1</td>\n",
       "      <td>4</td>\n",
       "      <td>0</td>\n",
       "      <td>0</td>\n",
       "    </tr>\n",
       "    <tr>\n",
       "      <th>5486</th>\n",
       "      <td>12860</td>\n",
       "      <td>-1.185665</td>\n",
       "      <td>0.160405</td>\n",
       "      <td>-0.591393</td>\n",
       "      <td>3</td>\n",
       "      <td>0</td>\n",
       "      <td>4</td>\n",
       "      <td>0</td>\n",
       "    </tr>\n",
       "    <tr>\n",
       "      <th>5487</th>\n",
       "      <td>12928</td>\n",
       "      <td>-1.096738</td>\n",
       "      <td>0.079208</td>\n",
       "      <td>-1.820423</td>\n",
       "      <td>3</td>\n",
       "      <td>0</td>\n",
       "      <td>4</td>\n",
       "      <td>-1</td>\n",
       "    </tr>\n",
       "    <tr>\n",
       "      <th>5488</th>\n",
       "      <td>12828</td>\n",
       "      <td>-0.580986</td>\n",
       "      <td>2.371997</td>\n",
       "      <td>-0.755322</td>\n",
       "      <td>1</td>\n",
       "      <td>4</td>\n",
       "      <td>0</td>\n",
       "      <td>0</td>\n",
       "    </tr>\n",
       "    <tr>\n",
       "      <th>5489</th>\n",
       "      <td>12829</td>\n",
       "      <td>-0.580986</td>\n",
       "      <td>2.371997</td>\n",
       "      <td>-0.755322</td>\n",
       "      <td>1</td>\n",
       "      <td>4</td>\n",
       "      <td>0</td>\n",
       "      <td>0</td>\n",
       "    </tr>\n",
       "  </tbody>\n",
       "</table>\n",
       "<p>5490 rows × 8 columns</p>\n",
       "</div>"
      ],
      "text/plain": [
       "         ID       pc1       pc2       pc3  kmeans_group  GM_group  Agg_group  \\\n",
       "0      3338 -0.583618 -2.751724  0.194400             5         2          2   \n",
       "1      3687  1.736902 -1.054492 -2.333478             4         1          1   \n",
       "2      3970 -1.600777 -1.508156 -0.589191             5         0          2   \n",
       "3      5015 -0.105833 -3.387938 -0.507708             5         0          2   \n",
       "4      5671 -0.851664 -0.478790  0.074819             3         2          4   \n",
       "...     ...       ...       ...       ...           ...       ...        ...   \n",
       "5485  12799 -0.079029  3.299932 -0.267819             1         4          0   \n",
       "5486  12860 -1.185665  0.160405 -0.591393             3         0          4   \n",
       "5487  12928 -1.096738  0.079208 -1.820423             3         0          4   \n",
       "5488  12828 -0.580986  2.371997 -0.755322             1         4          0   \n",
       "5489  12829 -0.580986  2.371997 -0.755322             1         4          0   \n",
       "\n",
       "      DB_group  \n",
       "0            0  \n",
       "1           -1  \n",
       "2            0  \n",
       "3            0  \n",
       "4            0  \n",
       "...        ...  \n",
       "5485         0  \n",
       "5486         0  \n",
       "5487        -1  \n",
       "5488         0  \n",
       "5489         0  \n",
       "\n",
       "[5490 rows x 8 columns]"
      ]
     },
     "execution_count": 26,
     "metadata": {},
     "output_type": "execute_result"
    }
   ],
   "source": [
    "df_pca"
   ]
  },
  {
   "cell_type": "markdown",
   "id": "64d8bf17",
   "metadata": {},
   "source": [
    "## 5.visualization"
   ]
  },
  {
   "cell_type": "code",
   "execution_count": 27,
   "id": "9a17b6ee",
   "metadata": {},
   "outputs": [],
   "source": [
    "# utils\n",
    "\n",
    "def draw_cluster_(cluster_colname):\n",
    "    sns.set_style(\"ticks\")\n",
    "    sns.relplot(x=\"pc1\", y=\"pc2\", hue=cluster_colname,\n",
    "                alpha=.5,data=df_pca)\n",
    "    \n",
    "    \n",
    "def draw_cluster_relationship_(cluster1,cluster2):\n",
    "    tmp=df_pca[[cluster1,cluster2]].copy(deep=True)\n",
    "    tmp['mark']=1.\n",
    "    tmp=pd.pivot_table(tmp, index=cluster1, columns=cluster2, values='mark',aggfunc='sum')\n",
    "    tmp=tmp.fillna(0.)\n",
    "    \n",
    "    f, ax = plt.subplots(figsize=(9, 6))\n",
    "    sns.heatmap(tmp, annot=True, linewidths=.5, ax=ax)\n",
    "    \n",
    "    \n",
    "def draw_variable_distribution_(varname,cluster,cluster_info=False):\n",
    "    tmp=df_ori[[varname,cluster]].copy(deep=True)\n",
    "    \n",
    "    #quantile num_cols\n",
    "    if varname in num_cols:\n",
    "        print('quantile mapping---')\n",
    "        print(df_ori[varname].describe())\n",
    "        tmp[varname]=pd.qcut(df['Hours'], q=[0, .25, 0.5, .75, 1], labels=['0%-25%', '25%-50%', '50%-75%','75%-100%'])\n",
    "    \n",
    "    tmp['count']=1.\n",
    "    tmp=tmp.groupby([varname,cluster]).agg({'count':'count'}).reset_index()\n",
    "    \n",
    "    sns.set_style(\"ticks\")\n",
    "    if cluster_info==True:\n",
    "        sns.relplot(x=varname, y=cluster, size='count',\n",
    "                    alpha=.5, data=tmp)\n",
    "    else:\n",
    "        sns.barplot(x=tmp[varname],y=tmp['count'])\n",
    "    "
   ]
  },
  {
   "cell_type": "markdown",
   "id": "927480b2",
   "metadata": {},
   "source": [
    "### 5.1 cluster vis\n",
    " - use only first 2 principal components"
   ]
  },
  {
   "cell_type": "code",
   "execution_count": 28,
   "id": "150389b8",
   "metadata": {},
   "outputs": [
    {
     "data": {
      "image/png": "[encoded data removed]",
      "text/plain": [
       "<Figure size 462.625x360 with 1 Axes>"
      ]
     },
     "metadata": {},
     "output_type": "display_data"
    }
   ],
   "source": [
    "draw_cluster_('kmeans_group')"
   ]
  },
  {
   "cell_type": "code",
   "execution_count": 29,
   "id": "13aac2cb",
   "metadata": {},
   "outputs": [
    {
     "data": {
      "image/png": "[encoded data removed]",
      "text/plain": [
       "<Figure size 443.5x360 with 1 Axes>"
      ]
     },
     "metadata": {},
     "output_type": "display_data"
    }
   ],
   "source": [
    "draw_cluster_('GM_group')"
   ]
  },
  {
   "cell_type": "markdown",
   "id": "0ce62e8e",
   "metadata": {},
   "source": [
    "### 5.2cluster relationship vis"
   ]
  },
  {
   "cell_type": "code",
   "execution_count": 30,
   "id": "aa7a162a",
   "metadata": {},
   "outputs": [
    {
     "data": {
      "image/png": "[encoded data removed]",
      "text/plain": [
       "<Figure size 648x432 with 2 Axes>"
      ]
     },
     "metadata": {},
     "output_type": "display_data"
    }
   ],
   "source": [
    "draw_cluster_relationship_('kmeans_group','GM_group')"
   ]
  },
  {
   "cell_type": "markdown",
   "id": "b0b752c8",
   "metadata": {},
   "source": [
    "### 5.3 variable vis"
   ]
  },
  {
   "cell_type": "code",
   "execution_count": 31,
   "id": "fdfaa7e1",
   "metadata": {},
   "outputs": [],
   "source": [
    "df_ori=df_ori.merge(df_pca[['ID','kmeans_group','GM_group']],on='ID',how='left')"
   ]
  },
  {
   "cell_type": "markdown",
   "id": "ebd7d76c",
   "metadata": {},
   "source": [
    "#### 5.3.1 num_cols"
   ]
  },
  {
   "cell_type": "code",
   "execution_count": 32,
   "id": "93201d9b",
   "metadata": {},
   "outputs": [
    {
     "data": {
      "text/plain": [
       "['Leveragability',\n",
       " 'Hours',\n",
       " 'MultiAgency',\n",
       " 'PublicSafety',\n",
       " 'DollarAmount',\n",
       " 'SizeOfSpend',\n",
       " 'LevelCalc',\n",
       " 'MarketRisk',\n",
       " 'Sensitivity',\n",
       " 'BusinessProcessImpact',\n",
       " 'TechChange']"
      ]
     },
     "execution_count": 32,
     "metadata": {},
     "output_type": "execute_result"
    }
   ],
   "source": [
    "num_cols"
   ]
  },
  {
   "cell_type": "code",
   "execution_count": 33,
   "id": "1dd00178",
   "metadata": {},
   "outputs": [
    {
     "name": "stdout",
     "output_type": "stream",
     "text": [
      "quantile mapping---\n",
      "count    5490.000000\n",
      "mean        1.904189\n",
      "std         1.295732\n",
      "min         1.000000\n",
      "25%         1.000000\n",
      "50%         1.000000\n",
      "75%         3.000000\n",
      "max         5.000000\n",
      "Name: MarketRisk, dtype: float64\n"
     ]
    },
    {
     "data": {
      "image/png": "[encoded data removed]",
      "text/plain": [
       "<Figure size 432x288 with 1 Axes>"
      ]
     },
     "metadata": {},
     "output_type": "display_data"
    }
   ],
   "source": [
    "draw_variable_distribution_('MarketRisk','kmeans_group',cluster_info=False)"
   ]
  },
  {
   "cell_type": "code",
   "execution_count": 34,
   "id": "3e5b66b1",
   "metadata": {},
   "outputs": [
    {
     "name": "stdout",
     "output_type": "stream",
     "text": [
      "quantile mapping---\n",
      "count    5490.000000\n",
      "mean        1.904189\n",
      "std         1.295732\n",
      "min         1.000000\n",
      "25%         1.000000\n",
      "50%         1.000000\n",
      "75%         3.000000\n",
      "max         5.000000\n",
      "Name: MarketRisk, dtype: float64\n"
     ]
    },
    {
     "data": {
      "image/png": "[encoded data removed]",
      "text/plain": [
       "<Figure size 420.75x360 with 1 Axes>"
      ]
     },
     "metadata": {},
     "output_type": "display_data"
    }
   ],
   "source": [
    "draw_variable_distribution_('MarketRisk','kmeans_group',cluster_info=True)"
   ]
  },
  {
   "cell_type": "markdown",
   "id": "d251b575",
   "metadata": {},
   "source": [
    "#### 5.3.2 cat_cols"
   ]
  },
  {
   "cell_type": "code",
   "execution_count": 35,
   "id": "cd1958a7",
   "metadata": {},
   "outputs": [
    {
     "data": {
      "text/plain": [
       "['BuyerInitials',\n",
       " 'Division_y',\n",
       " 'Grouping',\n",
       " 'WorkPerformedFor',\n",
       " 'Division_x',\n",
       " 'BuyerName',\n",
       " 'ProjectType',\n",
       " 'CreatedBy']"
      ]
     },
     "execution_count": 35,
     "metadata": {},
     "output_type": "execute_result"
    }
   ],
   "source": [
    "cat_cols"
   ]
  },
  {
   "cell_type": "code",
   "execution_count": 36,
   "id": "7a56814b",
   "metadata": {},
   "outputs": [
    {
     "data": {
      "image/png": "[encoded data removed]",
      "text/plain": [
       "<Figure size 432x288 with 1 Axes>"
      ]
     },
     "metadata": {},
     "output_type": "display_data"
    }
   ],
   "source": [
    "draw_variable_distribution_('Division_x','kmeans_group',cluster_info=False)"
   ]
  },
  {
   "cell_type": "code",
   "execution_count": 37,
   "id": "14320277",
   "metadata": {},
   "outputs": [
    {
     "data": {
      "image/png": "[encoded data removed]",
      "text/plain": [
       "<Figure size 420.75x360 with 1 Axes>"
      ]
     },
     "metadata": {},
     "output_type": "display_data"
    }
   ],
   "source": [
    "draw_variable_distribution_('Division_x','kmeans_group',cluster_info=True)"
   ]
  },
  {
   "cell_type": "code",
   "execution_count": null,
   "id": "2fa09691",
   "metadata": {},
   "outputs": [],
   "source": []
  }
 ],
 "metadata": {
  "kernelspec": {
   "display_name": "Python 3",
   "language": "python",
   "name": "python3"
  },
  "language_info": {
   "codemirror_mode": {
    "name": "ipython",
    "version": 3
   },
   "file_extension": ".py",
   "mimetype": "text/x-python",
   "name": "python",
   "nbconvert_exporter": "python",
   "pygments_lexer": "ipython3",
   "version": "3.6.13"
  }
 },
 "nbformat": 4,
 "nbformat_minor": 5
}
